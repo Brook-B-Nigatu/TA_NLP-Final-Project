{
 "cells": [
  {
   "cell_type": "markdown",
   "id": "1985ac2e",
   "metadata": {},
   "source": [
    "\\begin{center}\n",
    "Brook Balkachew Nigatu\n",
    "\\end{center}\n",
    "\n",
    "\\hfill\n",
    "\n",
    "**Github link**: https://github.com/Brook-B-Nigatu/TA_NLP-Final-Project\n",
    "\\newpage"
   ]
  },
  {
   "cell_type": "markdown",
   "id": "97a10ade",
   "metadata": {},
   "source": [
    "# Executive Summary\n",
    "\n",
    "## Project Objective\n",
    "\n",
    "This project analyzes posts and comments from the r/Futurology subreddit to uncover underlying themes, sentiment trends, and named entities that characterize community discussion about future technologies, societal issues, and global challenges.\n",
    "\n",
    "## Data Sources\n",
    "\n",
    "- **Submissions:** 1000+ posts\n",
    "- **Comments:** 10,000+ comments\n",
    "- **Preprocessing:** Deduplication, removal of deleted/removed content, tokenization, lemmatization, and custom stop-word filtering\n",
    "\n",
    "## Data Collection\n",
    "\n",
    "- Used (Python/PRAW) to fetch new submissions and comments from r/Futurology at regular intervals\n",
    "\n",
    "## Methodology\n",
    "\n",
    "The analysis largely adheres to tidytext principles. Rows represent single tokens and metadata is stored in columns. This maximizes compatibility with tidyverse tools such as dplyr and ggplot2.\n",
    "\n",
    "1. **Data Cleaning & Tokenization**\n",
    "\n",
    "   - Combined posts and comments into a unified document corpus\n",
    "   - Applied lemmatization with `textstem` and filtered out stop words, numeric tokens, URLs, and punctuation\n",
    "   - Constructed a Document-Term Matrix (DTM) for topic modeling\n",
    "\n",
    "2. **Topic Modeling (LDA)**\n",
    "\n",
    "   - Tested multiple values of K (3, 5, 7, 9, 11)\n",
    "   - Evaluated models using:\n",
    "     - **Perplexity:** Measures how well a model predicts unseen data (lower values indicate better fit)\n",
    "     - **Coherence:** Quantifies semantic consistency among top topic words (higher values indicate more interpretable topics)\n",
    "   - Normalized and combined both metrics to select **K = 7** as the optimal number of topics\n",
    "   - Extracted top 10 words per topic to interpret thematic content\n",
    "\n",
    "3. **Sentiment Analysis**\n",
    "\n",
    "   - Applied three lexicons/methods:\n",
    "     1. **Bing:** Word-level positive/negative classification\n",
    "     2. **AFINN:** Word-level sentiment values (−5 to +5)\n",
    "     3. **VADER:** Document-level compound scores, capturing negation and intensity\n",
    "   - Summarized mean/median sentiment per topic and compared methods side-by-side\n",
    "\n",
    "4. **Named Entity Recognition (NER)**\n",
    "   - Utilized `spacyr` with the `en_core_web_sm` model\n",
    "   - Identified and filtered entities (PERSON, ORG, GPE, etc.)\n",
    "   - Calculated the top entities by frequency per topic and analyzed distribution of entity types\n",
    "\\newpage"
   ]
  },
  {
   "cell_type": "markdown",
   "id": "0834cd41",
   "metadata": {},
   "source": [
    "# Introduction\n",
    "\n",
    "## About r/Futurology\n",
    "\n",
    "r/Futurology is a popular subreddit for forward-thinking discussion and speculation on emerging technologies, scientific breakthroughs, and societal trends. With tens of thousands of members, the community shares news, research, and debates about how innovation will shape the future.\n",
    "\n",
    "## Key Algorithms & Methods\n",
    "\n",
    "- **Tokenization & Lemmatization**  \n",
    "  Breaks raw text into individual tokens (words) and reduces each to its base (lemma) form. This normalization helps group similar terms (e.g., “running” → “run”) and simplifies the vocabulary for modeling.\n",
    "\n",
    "- **Document–Term Matrix (DTM)**  \n",
    "  Represents the corpus as a sparse numerical matrix where rows are documents and columns are terms. The DTM captures term frequency information, enabling statistical and machine-learning algorithms to process textual data.\n",
    "\n",
    "- **Latent Dirichlet Allocation (LDA)**  \n",
    "  A generative probabilistic model that discovers latent topics in a document collection. It assumes each document is a mixture of topics and each topic is a distribution over words. LDA reveals thematic structures by estimating:\n",
    "\n",
    "  - Topic–word distributions: the probability of each word in a topic\n",
    "  - Document–topic distributions: the probability of each topic in a document\n",
    "\n",
    "- **Sentiment Analysis**  \n",
    "  Assesses the emotional tone of text using:\n",
    "\n",
    "  1. **Lexicon-based methods** (Bing, AFINN): assign pre-defined sentiment scores or positive/negative labels to individual words, then aggregate at document or topic level.\n",
    "  2. **VADER** (Valence Aware Dictionary and sEntiment Reasoner): a rule-based model optimized for social media, providing compound scores that capture negations, intensifiers, and punctuation-based emphasis.\n",
    "\n",
    "- **Named Entity Recognition (NER)**  \n",
    "  Identifies and classifies real-world entities (e.g., people, organizations, geographic locations) within text. Using `spacyr` (spaCy’s R interface), NER extracts structured information that can be analyzed across topics.\n",
    "\n",
    "- **LDA Model Evaluation Metrics**\n",
    "  - **Perplexity:** measures how well a probabilistic model predicts unseen data (lower perplexity indicates a better statistical fit).\n",
    "  - **Coherence:** evaluates the semantic consistency of top words within topics based on co-occurrence statistics (higher coherence aligns with more interpretable topics).\n",
    "\\newpage"
   ]
  },
  {
   "cell_type": "markdown",
   "id": "2b3c07ad",
   "metadata": {},
   "source": [
    "# Methodology and Results\n",
    "\n",
    "## Install and Load Required Packages\n",
    "\n",
    "This section installs and loads all necessary R packages for text analysis, topic modeling, sentiment analysis, and visualization. We ensure all dependencies are properly managed and packages are available before proceeding with the analysis."
   ]
  },
  {
   "cell_type": "code",
   "execution_count": 24,
   "id": "69e06cc9",
   "metadata": {
    "vscode": {
     "languageId": "r"
    }
   },
   "outputs": [],
   "source": [
    "suppressWarnings({# Script Start: Install and Load Required Packages\n",
    "if (getOption(\"repos\")[\"CRAN\"] == \"@CRAN@\") {\n",
    "  options(repos = c(CRAN = \"https://cran.rstudio.com/\"))\n",
    "}\n",
    "\n",
    "# List of required packages\n",
    "required_packages <- c(\n",
    "  \"tidyverse\", \n",
    "  \"tidytext\", \n",
    "  \"topicmodels\", \n",
    "  \"tm\", \n",
    "  \"textdata\", \n",
    "  \"ggplot2\", \n",
    "  \"wordcloud\", \n",
    "  \"RColorBrewer\", \n",
    "  \"dplyr\",       \n",
    "  \"stringr\",     \n",
    "  \"broom\",\n",
    "  \"textstem\",    \n",
    "  \"reshape2\",    \n",
    "  \"gridExtra\",   \n",
    "  \"devtools\",    \n",
    "  \"spacyr\"       \n",
    ")\n",
    "\n",
    "# Check if packages are installed, install if not\n",
    "for (pkg in required_packages) {\n",
    "  if (!requireNamespace(pkg, quietly = TRUE)) {\n",
    "    install.packages(pkg, dependencies = TRUE)\n",
    "  }\n",
    "}\n",
    "\n",
    "suppressPackageStartupMessages({\n",
    "  library(tidyverse)\n",
    "  library(tidytext)\n",
    "  library(topicmodels)\n",
    "  library(tm)\n",
    "  library(textdata)\n",
    "  library(ggplot2)\n",
    "  library(wordcloud)\n",
    "  library(RColorBrewer)\n",
    "  library(dplyr)\n",
    "  library(stringr)\n",
    "  library(broom)\n",
    "  library(textstem)\n",
    "  library(reshape2)\n",
    "  library(gridExtra)\n",
    "})})"
   ]
  },
  {
   "cell_type": "markdown",
   "id": "0b8b4a1f",
   "metadata": {},
   "source": [
    "## Load Data\n",
    "\n",
    "Here we load the Reddit submissions and comments datasets. The data consists of posts and comments from the r/Futurology subreddit, which focuses on discussions about future technology, science, and society."
   ]
  },
  {
   "cell_type": "code",
   "execution_count": 2,
   "id": "3c47c357",
   "metadata": {
    "vscode": {
     "languageId": "r"
    }
   },
   "outputs": [
    {
     "name": "stdout",
     "output_type": "stream",
     "text": [
      "[1] \"Loading data...\"\n",
      "[1] \"Loaded 1060 submissions and 12038 comments\"\n"
     ]
    }
   ],
   "source": [
    "# Set working directory\n",
    "# setwd(\"c:/Users/brook/Desktop/Courses/Year 1/Sem 2/Text Analysis/Project\")\n",
    "\n",
    "# Load data\n",
    "print(\"Loading data...\")\n",
    "submissions <- read.csv(\"futurology_submissions.csv\", stringsAsFactors = FALSE)\n",
    "comments <- read.csv(\"futurology_comments.csv\", stringsAsFactors = FALSE)\n",
    "\n",
    "print(paste(\"Loaded\", nrow(submissions), \"submissions and\", nrow(comments), \"comments\"))"
   ]
  },
  {
   "cell_type": "markdown",
   "id": "220729da",
   "metadata": {},
   "source": [
    "## Data Preprocessing\n",
    "\n",
    "### Submissions (Posts)\n",
    "\n",
    "- **Filtering:**\n",
    "  - Removes rows where `body` is NA, empty, `[deleted]`, or `[removed]`.\n",
    "- **Selection:**\n",
    "  - Selects columns: `id`, `title`, `body`, `author`, `created_utc`.\n",
    "- **Text Construction:**\n",
    "  - Concatenates `title` and `body` into a new `text` column.\n",
    "- **Metadata:**\n",
    "  - Adds `document_type = \"submission\"` and a unique `document_id` prefixed with `sub_`.\n",
    "- **Final Columns:**\n",
    "  - Keeps: `document_id`, `text`, `document_type`, `author`, `created_utc`.\n",
    "\n",
    "### Comments\n",
    "\n",
    "- **Filtering:**\n",
    "  - Removes rows where `body` is NA, empty, `[deleted]`, or `[removed]`.\n",
    "- **Selection:**\n",
    "  - Selects columns: `id`, `body`, `author`, `created_utc`, `submission_id`.\n",
    "- **Text Construction:**\n",
    "  - Uses `body` as the `text` column.\n",
    "- **Metadata:**\n",
    "  - Adds `document_type = \"comment\"` and a unique `document_id` prefixed with `com_`.\n",
    "- **Final Columns:**\n",
    "  - Keeps: `document_id`, `text`, `document_type`, `author`, `created_utc`.\n",
    "\n",
    "### Combine Documents\n",
    "\n",
    "- **Binding:**\n",
    "  - Combines cleaned submissions and comments into a single data frame `all_documents`.\n",
    "\n",
    "\n",
    "### Why Combine Posts and Comments into a Single “Document”?\n",
    "\n",
    "When we treat each Reddit submission (post) and each comment as its own document in the corpus, we capture both the initiator’s framing of a topic and the community’s follow-on discussion. Combining them in this way offers several benefits:\n",
    "\n",
    "1. Holistic Context  \n",
    "   • Posts often introduce a question, claim, or news item, while comments elaborate, debate, and clarify. Modeling them together ensures topics reflect the full conversation rather than only one side.\n",
    "\n",
    "2. Enhanced Topic Coherence  \n",
    "   • Comments typically contain terms and arguments that complement the original post. Including both boosts co-occurrence counts for related words, which improves the semantic coherence of the topics discovered.\n",
    "\n",
    "3. Balanced Representation  \n",
    "   • Reddit threads vary in comment depth—some posts attract extensive discussion, others very little. Treating each comment as its own document prevents long threads from dominating topic proportions and keeps the model from over-weighting highly active posts.\n",
    "\n",
    "4. Simplified Workflow  \n",
    "   • From a preprocessing standpoint, assigning every unit of text (post or comment) a unique document ID and treating them identically makes the pipeline more uniform—one DTM, one LDA run, one set of evaluation metrics.\n",
    "\n",
    "By considering posts and comments on equal footing, our LDA model uncovers richer, more nuanced themes that mirror both the prompt and the reaction in r/Futurology discussions."
   ]
  },
  {
   "cell_type": "code",
   "execution_count": 3,
   "id": "a09841e5",
   "metadata": {
    "vscode": {
     "languageId": "r"
    }
   },
   "outputs": [
    {
     "name": "stdout",
     "output_type": "stream",
     "text": [
      "[1] \"Total documents: 12528\"\n"
     ]
    }
   ],
   "source": [
    "# Combine posts and submissions (treat each post body and each comment as one document)\n",
    "\n",
    "# Prepare submissions data\n",
    "submissions_clean <- submissions %>%\n",
    "  filter(!is.na(body) & body != \"\" & body != \"[deleted]\" & body != \"[removed]\") %>%\n",
    "  select(id, title, body, author, created_utc) %>%\n",
    "  mutate(\n",
    "    text = paste(title, body, sep = \" \"),\n",
    "    document_type = \"submission\",\n",
    "    document_id = paste0(\"sub_\", id)\n",
    "  ) %>%\n",
    "  select(document_id, text, document_type, author, created_utc)\n",
    "\n",
    "# Prepare comments data\n",
    "comments_clean <- comments %>%\n",
    "  filter(!is.na(body) & body != \"\" & body != \"[deleted]\" & body != \"[removed]\") %>%\n",
    "  select(id, body, author, created_utc, submission_id) %>%\n",
    "  mutate(\n",
    "    text = body,\n",
    "    document_type = \"comment\",\n",
    "    document_id = paste0(\"com_\", id)\n",
    "  ) %>%\n",
    "  select(document_id, text, document_type, author, created_utc)\n",
    "\n",
    "# Combine all documents\n",
    "all_documents <- bind_rows(submissions_clean, comments_clean)\n",
    "print(paste(\"Total documents:\", nrow(all_documents)))"
   ]
  },
  {
   "cell_type": "markdown",
   "id": "47057205",
   "metadata": {},
   "source": [
    "## Text Preprocessing and Cleaning\n",
    "\n",
    "### Stop Words\n",
    "\n",
    "- **Custom Stop Words:**\n",
    "  - Combines standard English stop words with additional Reddit-specific and common filler words (e.g., \"reddit\", \"subreddit\", \"post\", \"thing\", \"really\", etc.).\n",
    "\n",
    "### Tokenization & Lemmatization\n",
    "\n",
    "- **Tokenization:**\n",
    "  - Splits text into individual words (tokens) using `unnest_tokens`.\n",
    "- **Cleaning Tokens:**\n",
    "  - Removes tokens that are:\n",
    "    - Pure numbers\n",
    "    - URLs (tokens starting with `http` or `https`)\n",
    "    - Non-alphabetic words (tokens not starting with a-z)\n",
    "- **Lemmatization:**\n",
    "  - Applies lemmatization to each word (reducing words to their base form).\n",
    "- **Stop Word Removal:**\n",
    "  - Removes tokens that are in the custom stop words list (after lemmatization)."
   ]
  },
  {
   "cell_type": "code",
   "execution_count": 4,
   "id": "80aa1e65",
   "metadata": {
    "vscode": {
     "languageId": "r"
    }
   },
   "outputs": [
    {
     "name": "stderr",
     "output_type": "stream",
     "text": [
      "\u001b[1m\u001b[22mJoining with `by = join_by(word)`\n"
     ]
    },
    {
     "name": "stdout",
     "output_type": "stream",
     "text": [
      "[1] \"Total tokens after cleaning: 268810\"\n"
     ]
    }
   ],
   "source": [
    "# Remove stop words and tokenize\n",
    "\n",
    "# Create custom stop words (combining standard English stop words with common Reddit terms)\n",
    "custom_stop_words <- bind_rows(\n",
    "  stop_words,\n",
    "  tibble(word = c(\"reddit\", \"sub\", \"subreddit\", \"post\", \"comment\", \"edit\", \"update\", \n",
    "                  \"deleted\", \"removed\", \"nbsp\", \"http\", \"https\", \"www\", \"com\",\n",
    "                  \"people\", \"thing\", \"things\", \"lot\", \"bit\", \"kind\", \"sort\",\n",
    "                  \"pretty\", \"really\", \"actually\", \"basically\", \"literally\"),\n",
    "         lexicon = \"custom\")\n",
    ")\n",
    "\n",
    "# Tokenize, lemmatize, and clean text\n",
    "tidy_documents <- all_documents %>%\n",
    "  unnest_tokens(word, text) %>%\n",
    "  filter(\n",
    "    !str_detect(word, \"^[0-9]+$\"),  # Remove pure numbers\n",
    "    !str_detect(word, \"^https?\"),   # Remove URLs\n",
    "    !str_detect(word, \"^[^a-z]\")    # Remove non-alphabetic words\n",
    "  ) %>%\n",
    "  mutate(word_lemma = lemmatize_words(word)) %>%  # Add lemmatization step\n",
    "  anti_join(custom_stop_words) # %>%  # Remove stop words after lemmatization\n",
    "\n",
    "print(paste(\"Total tokens after cleaning:\", nrow(tidy_documents)))"
   ]
  },
  {
   "cell_type": "markdown",
   "id": "2b6d539a",
   "metadata": {},
   "source": [
    "## Document-Term Matrix Creation\n",
    "\n",
    "We create a Document-Term Matrix (DTM), which is a mathematical representation where:\n",
    "- **Rows** represent documents (posts/comments)\n",
    "- **Columns** represent unique terms (lemmatized words)\n",
    "- **Values** represent term frequencies within each document\n",
    "\n",
    "This matrix structure is required for topic modeling algorithms like Latent Dirichlet Allocation (LDA)."
   ]
  },
  {
   "cell_type": "code",
   "execution_count": 5,
   "id": "e5286426",
   "metadata": {
    "vscode": {
     "languageId": "r"
    }
   },
   "outputs": [
    {
     "name": "stdout",
     "output_type": "stream",
     "text": [
      "[1] \"DTM dimensions: 12434 x 19647\"\n"
     ]
    }
   ],
   "source": [
    "# Create document-term matrix for topic modeling\n",
    "\n",
    "# Count words per document\n",
    "doc_word_counts <- tidy_documents %>%\n",
    "  count(document_id, word_lemma, sort = TRUE)\n",
    "\n",
    "# Create document-term matrix\n",
    "dtm <- doc_word_counts %>%\n",
    "  cast_dtm(document_id, word_lemma, n)\n",
    "\n",
    "print(paste(\"DTM dimensions:\", nrow(dtm), \"x\", ncol(dtm)))"
   ]
  },
  {
   "cell_type": "markdown",
   "id": "da013f78",
   "metadata": {},
   "source": [
    "## Topic Modeling\n",
    "\n",
    "Topic modeling uses **Latent Dirichlet Allocation (LDA)** to discover hidden thematic structures in the text.\n",
    "\n",
    "### Understanding Latent Dirichlet Allocation (LDA)\n",
    "\n",
    "#### What is LDA?\n",
    "\n",
    "Latent Dirichlet Allocation (LDA) is a generative probabilistic model used for topic modeling, where the goal is to discover latent (hidden) topics in a collection of documents. It assumes:\n",
    "\n",
    "- Each document is a mixture of topics.\n",
    "- Each topic is a distribution over words.\n",
    "\n",
    "Training an LDA model gives us:\n",
    "\n",
    "1. **Topic–word distributions** (which words are most likely under each topic).\n",
    "2. **Document–topic distributions** (which topics are most prominent in each document).\n",
    "\n",
    "Based on this we can classify documents into topics. Naturally, to each document, we assign the most likely topic within that document.\n",
    "\n",
    "We can also get some interpretability of the topics by examining the top (i.e most probable) words within that topic according to the learned distributions.\n",
    "\n",
    "#### Choosing the Number of Topics\n",
    "\n",
    "The number of topics (K) is a hyperparameter that determines how many distinct thematic groups the model will learn. Selecting K is critical: too few topics can merge distinct themes, while too many can split coherent themes into smaller, less interpretable subtopics. To find an optimal K, the script tests multiple values (e.g., 3, 5, 7, 9, 11) and evaluates each model using:\n",
    "\n",
    "- **Perplexity**: a likelihood-based measure of model fit to the data. Lower perplexity indicates the model better predicts unseen documents, but it can favor more complex models (larger K) and may not align with human interpretability.\n",
    "\n",
    "- **Coherence**: measures the degree of semantic similarity among the top words in each topic by computing word co-occurrence statistics in the corpus. Higher coherence scores correlate with more interpretable and semantically cohesive topics. Since coherence scores are negative, these are the scores closer to 0."
   ]
  },
  {
   "cell_type": "code",
   "execution_count": 6,
   "id": "f60fa601",
   "metadata": {
    "vscode": {
     "languageId": "r"
    }
   },
   "outputs": [],
   "source": [
    "\n",
    "calculate_perplexity <- function(lda_model, dtm) {\n",
    "  perplexity(lda_model, dtm)\n",
    "}\n",
    "\n",
    "# Function to calculate coherence score\n",
    "calculate_coherence <- function(lda_model, dtm, top_n = 10) {\n",
    "  # Extract top terms for each topic\n",
    "  topics_terms <- tidy(lda_model, matrix = \"beta\") %>%\n",
    "    group_by(topic) %>%\n",
    "    slice_max(beta, n = top_n) %>%\n",
    "    ungroup()\n",
    "  \n",
    "  # Calculate coherence using word co-occurrence\n",
    "  coherence_scores <- numeric(length(unique(topics_terms$topic)))\n",
    "  \n",
    "  for (topic_num in unique(topics_terms$topic)) {\n",
    "    topic_words <- topics_terms %>%\n",
    "      filter(topic == topic_num) %>%\n",
    "      pull(term)\n",
    "    \n",
    "    # Calculate pairwise coherence\n",
    "    coherence_sum <- 0\n",
    "    pair_count <- 0\n",
    "    \n",
    "    for (i in 1:(length(topic_words)-1)) {\n",
    "      for (j in (i+1):length(topic_words)) {\n",
    "        word1 <- topic_words[i]\n",
    "        word2 <- topic_words[j]\n",
    "        \n",
    "        # Count documents containing both words\n",
    "        docs_with_both <- sum(as.vector(dtm[, word1] > 0) & as.vector(dtm[, word2] > 0))\n",
    "        docs_with_word1 <- sum(as.vector(dtm[, word1] > 0))\n",
    "        \n",
    "        if (docs_with_word1 > 0) {\n",
    "          coherence_sum <- coherence_sum + log((docs_with_both + 1) / docs_with_word1)\n",
    "          pair_count <- pair_count + 1\n",
    "        }\n",
    "      }\n",
    "    }\n",
    "    \n",
    "    coherence_scores[topic_num] <- if (pair_count > 0) coherence_sum / pair_count else 0\n",
    "  }\n",
    "  \n",
    "  return(mean(coherence_scores))\n",
    "}"
   ]
  },
  {
   "cell_type": "markdown",
   "id": "3df1b2c7",
   "metadata": {},
   "source": [
    "## Evaluation of Topic Models\n",
    "\n",
    "We try different values for the number of topics (3, 5, 7, 9, and 11), and choose the one based on perplexity and coherence scores.  \n",
    "\n",
    "Both metrics are normalized to a 0–1 scale and combined equally to form a **combined score**:\n",
    "\n",
    "```r\n",
    "normalized_perplexity <- (max(perplexity_scores) - perplexity_scores) /\n",
    "                         (max(perplexity_scores) - min(perplexity_scores))\n",
    "normalized_coherence  <- (coherence_scores - min(coherence_scores)) /\n",
    "                         (max(coherence_scores) - min(coherence_scores))\n",
    "combined_scores       <- (normalized_perplexity + normalized_coherence) / 2\n",
    "```\n",
    "\n",
    "Note that the normalization takes into account the fact that we desire lower perplexity scores by taking the negative of the perplexity scores.\n",
    "\n",
    "The model with the highest combined score is selected as the optimal topic count."
   ]
  },
  {
   "cell_type": "code",
   "execution_count": 7,
   "id": "5f27c0b0",
   "metadata": {
    "vscode": {
     "languageId": "r"
    }
   },
   "outputs": [
    {
     "name": "stdout",
     "output_type": "stream",
     "text": [
      "[1] \"Optimal number of topics (combined metric): 7\"\n"
     ]
    }
   ],
   "source": [
    "# Test different numbers of topics\n",
    "k_values <- c(3, 5, 7, 9, 11)\n",
    "\n",
    "topic_models <- list()\n",
    "perplexity_scores <- numeric(length(k_values))\n",
    "coherence_scores <- numeric(length(k_values))\n",
    "\n",
    "for (i in seq_along(k_values)) {\n",
    "  k <- k_values[i]\n",
    "  \n",
    "  set.seed(123)  # For reproducibility\n",
    "  lda_model <- LDA(dtm, k = k, control = list(alpha = 0.1, seed = 123))\n",
    "  \n",
    "  topic_models[[i]] <- lda_model\n",
    "  perplexity_scores[i] <- calculate_perplexity(lda_model, dtm)\n",
    "  coherence_scores[i] <- calculate_coherence(lda_model, dtm)\n",
    "}\n",
    "\n",
    "# Normalize scores for comparison (higher is better for both after normalization)\n",
    "# For perplexity, we want lower values, so we invert the ranking\n",
    "normalized_perplexity <- (max(perplexity_scores) - perplexity_scores) / (max(perplexity_scores) - min(perplexity_scores))\n",
    "# For coherence, higher is already better\n",
    "normalized_coherence <- (coherence_scores - min(coherence_scores)) / (max(coherence_scores) - min(coherence_scores))\n",
    "\n",
    "# Combined score (equal weighting)\n",
    "combined_scores <- (normalized_perplexity + normalized_coherence) / 2\n",
    "\n",
    "# Choose optimal number of topics based on combined score\n",
    "optimal_k_index <- which.max(combined_scores)\n",
    "optimal_k <- k_values[optimal_k_index]\n",
    "optimal_model <- topic_models[[optimal_k_index]]\n",
    "\n",
    "print(paste(\"Optimal number of topics (combined metric):\", optimal_k))"
   ]
  },
  {
   "cell_type": "code",
   "execution_count": 8,
   "id": "85060205",
   "metadata": {
    "vscode": {
     "languageId": "r"
    }
   },
   "outputs": [
    {
     "name": "stderr",
     "output_type": "stream",
     "text": [
      "Warning message:\n",
      "\"\u001b[1m\u001b[22mUsing `size` aesthetic for lines was deprecated in ggplot2 3.4.0.\n",
      "\u001b[36mℹ\u001b[39m Please use `linewidth` instead.\"\n"
     ]
    },
    {
     "data": {
      "image/png": "[encoded data removed]",
      "text/plain": [
       "plot without title"
      ]
     },
     "metadata": {
      "image/png": {
       "height": 420,
       "width": 420
      }
     },
     "output_type": "display_data"
    }
   ],
   "source": [
    "# Create comprehensive evaluation dataframe\n",
    "evaluation_df <- data.frame(\n",
    "  k = k_values,\n",
    "  perplexity = perplexity_scores,\n",
    "  coherence = coherence_scores,\n",
    "  normalized_perplexity = normalized_perplexity,\n",
    "  normalized_coherence = normalized_coherence,\n",
    "  combined_score = combined_scores\n",
    ")\n",
    "\n",
    "# Plot all metrics\n",
    "library(reshape2)\n",
    "metrics_long <- evaluation_df %>%\n",
    "  select(k, normalized_perplexity, normalized_coherence, combined_score) %>%\n",
    "  melt(id.vars = \"k\", variable.name = \"metric\", value.name = \"score\")\n",
    "\n",
    "ggplot(metrics_long, aes(x = k, y = score, color = metric)) +\n",
    "  geom_line(size = 1) +\n",
    "  geom_point(size = 3) +\n",
    "  geom_vline(xintercept = optimal_k, color = \"red\", linetype = \"dashed\", alpha = 0.7) +\n",
    "  scale_color_manual(values = c(\"blue\", \"green\", \"purple\"),\n",
    "                     labels = c(\"Normalized Perplexity (inverted)\", \"Normalized Coherence\", \"Combined Score\")) +\n",
    "  labs(title = \"Topic Model Evaluation Metrics\",\n",
    "       subtitle = paste(\"Optimal k =\", optimal_k, \"(based on combined score)\"),\n",
    "       x = \"Number of Topics (k)\",\n",
    "       y = \"Normalized Score (higher is better)\",\n",
    "       color = \"Metric\") +\n",
    "  theme_minimal() +\n",
    "  theme(legend.position = \"bottom\")"
   ]
  },
  {
   "cell_type": "markdown",
   "id": "adc87c95",
   "metadata": {},
   "source": [
    "In this analysis, the script identified **K = 7** as the best balance between model fit and interpretability."
   ]
  },
  {
   "cell_type": "code",
   "execution_count": 9,
   "id": "161b9b7c",
   "metadata": {
    "vscode": {
     "languageId": "r"
    }
   },
   "outputs": [
    {
     "data": {
      "image/png": "[encoded data removed]",
      "text/plain": [
       "plot without title"
      ]
     },
     "metadata": {
      "image/png": {
       "height": 420,
       "width": 420
      }
     },
     "output_type": "display_data"
    }
   ],
   "source": [
    "# Individual plots for detailed view\n",
    "# Perplexity plot\n",
    "perplexity_df <- data.frame(k = k_values, perplexity = perplexity_scores)\n",
    "p1 <- ggplot(perplexity_df, aes(x = k, y = perplexity)) +\n",
    "  geom_line(color = \"blue\", size = 1) +\n",
    "  geom_point(color = \"blue\", size = 3) +\n",
    "  geom_vline(xintercept = optimal_k, color = \"red\", linetype = \"dashed\", alpha = 0.7) +\n",
    "  labs(title = \"Perplexity by Number of Topics\",\n",
    "       subtitle = \"Lower is better\",\n",
    "       x = \"Number of Topics (k)\",\n",
    "       y = \"Perplexity\") +\n",
    "  theme_minimal()\n",
    "\n",
    "# Coherence plot\n",
    "coherence_df <- data.frame(k = k_values, coherence = coherence_scores)\n",
    "p2 <- ggplot(coherence_df, aes(x = k, y = coherence)) +\n",
    "  geom_line(color = \"green\", size = 1) +\n",
    "  geom_point(color = \"green\", size = 3) +\n",
    "  geom_vline(xintercept = optimal_k, color = \"red\", linetype = \"dashed\", alpha = 0.7) +\n",
    "  labs(title = \"Coherence by Number of Topics\",\n",
    "       subtitle = \"Higher is better\",\n",
    "       x = \"Number of Topics (k)\",\n",
    "       y = \"Coherence Score\") +\n",
    "  theme_minimal()\n",
    "\n",
    "# Combine plots\n",
    "library(gridExtra)\n",
    "combined_plot <- grid.arrange(p1, p2, ncol = 2)"
   ]
  },
  {
   "cell_type": "markdown",
   "id": "15682517",
   "metadata": {},
   "source": [
    "## Document Assignments and Topic Analysis\n",
    "\n",
    "Using the optimal topic model, we:\n",
    "- **Assign each document** to its most likely topic based on probability distributions\n",
    "- **Analyze topic distributions** to understand how documents are distributed across topics\n",
    "- **Extract top words** for each topic to understand their thematic content\n",
    "- **Create visualizations** including word clouds and bar charts\n",
    "\n",
    "This provides interpretable insights into the main themes present in r/Futurology discussions."
   ]
  },
  {
   "cell_type": "code",
   "execution_count": 10,
   "id": "2cc4fb68",
   "metadata": {
    "vscode": {
     "languageId": "r"
    }
   },
   "outputs": [
    {
     "data": {
      "image/png": "[encoded data removed]",
      "text/plain": [
       "plot without title"
      ]
     },
     "metadata": {
      "image/png": {
       "height": 420,
       "width": 420
      }
     },
     "output_type": "display_data"
    }
   ],
   "source": [
    "# Document assignments and topic analysis\n",
    "\n",
    "# Get document-topic probabilities\n",
    "doc_topics <- tidy(optimal_model, matrix = \"gamma\")\n",
    "\n",
    "# Get the most likely topic for each document\n",
    "doc_topic_assignments <- doc_topics %>%\n",
    "  group_by(document) %>%\n",
    "  slice_max(gamma, n = 1, with_ties = FALSE) %>%\n",
    "  ungroup()\n",
    "\n",
    "# Count documents per topic\n",
    "documents_per_topic <- doc_topic_assignments %>%\n",
    "  count(topic, sort = TRUE) %>%\n",
    "  mutate(percentage = round(n / sum(n) * 100, 1))\n",
    "\n",
    "# Visualize documents per topic\n",
    "ggplot(documents_per_topic, aes(x = factor(topic), y = n)) +\n",
    "  geom_col(fill = \"skyblue\", alpha = 0.7) +\n",
    "  geom_text(aes(label = paste0(n, \" (\", percentage, \"%)\"), vjust = -0.5)) +\n",
    "  labs(title = \"Number of Documents per Topic\",\n",
    "       x = \"Topic\",\n",
    "       y = \"Number of Documents\") +\n",
    "  theme_minimal()"
   ]
  },
  {
   "cell_type": "code",
   "execution_count": 11,
   "id": "460289b9",
   "metadata": {
    "vscode": {
     "languageId": "r"
    }
   },
   "outputs": [
    {
     "data": {
      "image/png": "[encoded data removed]",
      "text/plain": [
       "plot without title"
      ]
     },
     "metadata": {
      "image/png": {
       "height": 420,
       "width": 420
      }
     },
     "output_type": "display_data"
    }
   ],
   "source": [
    "# Most likely words per topic\n",
    "topic_terms <- tidy(optimal_model, matrix = \"beta\") %>%\n",
    "  group_by(topic) %>%\n",
    "  slice_max(beta, n = 10) %>%\n",
    "  ungroup() %>%\n",
    "  arrange(topic, -beta)\n",
    "\n",
    "# Visualize top words per topic\n",
    "ggplot(topic_terms, aes(x = reorder_within(term, beta, topic), y = beta, fill = factor(topic))) +\n",
    "  geom_col(show.legend = FALSE) +\n",
    "  facet_wrap(~ topic, scales = \"free\", ncol = 2) +\n",
    "  coord_flip() +\n",
    "  scale_x_reordered() +\n",
    "  scale_fill_viridis_d() +\n",
    "  labs(title = \"Top Words per Topic\",\n",
    "       x = \"Terms\",\n",
    "       y = \"Beta (word probability in topic)\") +\n",
    "  theme_minimal() +\n",
    "  theme(axis.text.y = element_text(size = 8))"
   ]
  },
  {
   "cell_type": "markdown",
   "id": "8422290b",
   "metadata": {},
   "source": [
    "### Interpreting Topics from r/Futurology Analysis\n",
    "\n",
    "Below are the 7 topics extracted by fitting an LDA model to Reddit posts and comments from r/Futurology. For each topic, we list the top 10 words (by β probability) and provide a brief interpretation.\n",
    "\n",
    "**Topic 1: Digital Access & Information**\n",
    "\n",
    "**Top terms:** internet, social, medium, phone, computer, dumb, brain, access, read, understand\n",
    "\n",
    "This topic centers on digital connectivity and how people consume and process information online. Keywords like **internet**, **social**, **phone**, and **computer** point to discussions about platforms and devices, while words such as **read**, **understand**, and **brain** suggest concern with comprehension and the impact of digital media on cognition.\n",
    "\n",
    "**Topic 2: Energy & Power Systems**\n",
    "\n",
    "**Top terms:** energy, power, system, space, nuclear, solar, future, build, time, quantum\n",
    "\n",
    "This theme covers energy technologies and infrastructure. With terms like **energy**, **power**, **nuclear**, and **solar**, conversations likely focus on generation methods. References to **space** and **quantum** hint at emerging or speculative technologies (e.g., space-based solar power or quantum energy systems) driving future innovation.\n",
    "\n",
    "**Topic 3: Human–Machine Interaction & AI**\n",
    "\n",
    "**Top terms:** human, it’s, robot, world, future, system, ai, time, life, technology\n",
    "\n",
    "Topic 3 reflects the intersection of humans with robotics and artificial intelligence. Words like **robot**, **ai**, and **technology** show interest in automation, while **human**, **life**, and **world** indicate discussions about societal and ethical implications as AI shapes our future.\n",
    "\n",
    "**Topic 4: Work & Economic Conditions**\n",
    "\n",
    "**Top terms:** job, pay, kid, money, time, company, child, life, live, cost\n",
    "\n",
    "This topic groups threads about employment, wages, and the cost of living. **job**, **pay**, **cost**, and **money** point to economic concerns. The presence of **kid** and **child** suggests discussions around family finances, childcare, and balancing work with personal life.\n",
    "\n",
    "**Topic 5: Care & Work–Life Balance**\n",
    "\n",
    "**Top terms:** care, time, parent, it’s, kid, pay, ad, home, life, student\n",
    "\n",
    "Closely related to Topic 4, Topic 5 emphasizes caregiving and personal roles. **care**, **parent**, **home**, and **student** bring in aspects of education, health, and domestic life, highlighting how future trends affect both professional and personal responsibilities.\n",
    "\n",
    "**Topic 6: AI Tools & Models**\n",
    "\n",
    "**Top terms:** ai, write, human, learn, model, job, question, time, datum, tool\n",
    "\n",
    "This topic zeroes in on specific AI-driven tools, with **ai**, **model**, and **tool** at the forefront. Words like **write**, **learn**, and **question** suggest applications in natural language generation and machine learning for tasks such as content creation, study aids, and data analysis.\n",
    "\n",
    "**Topic 7: Geopolitics & Global Issues**\n",
    "\n",
    "**Top terms:** country, china, government, population, global, climate, world, money, tax, level\n",
    "\n",
    "Topic 7 deals with macro-scale society and governance. With **country**, **government**, **population**, and **tax**, users debate policy, demographics, and economic systems. Inclusion of **climate** and **global** reflects environmental and geopolitical concerns in an interconnected world."
   ]
  },
  {
   "cell_type": "code",
   "execution_count": 23,
   "id": "80ae5eb7",
   "metadata": {
    "vscode": {
     "languageId": "r"
    }
   },
   "outputs": [
    {
     "name": "stderr",
     "output_type": "stream",
     "text": [
      "Warning message in wordcloud(words = topic_words$term, freq = topic_words$beta, :\n",
      "\"phone could not be fit on page. It will not be plotted.\"\n",
      "Warning message in wordcloud(words = topic_words$term, freq = topic_words$beta, :\n",
      "\"computer could not be fit on page. It will not be plotted.\"\n"
     ]
    },
    {
     "data": {
      "image/png": "[encoded data removed]",
      "text/plain": [
       "Plot with title \"Topic 7\""
      ]
     },
     "metadata": {
      "image/png": {
       "height": 420,
       "width": 420
      }
     },
     "output_type": "display_data"
    }
   ],
   "source": [
    "# Create word clouds and display them in a grid\n",
    "library(gridExtra)\n",
    "\n",
    "# Calculate grid dimensions\n",
    "ncol_grid <- 3  # Number of columns for the grid\n",
    "nrow_grid <- ceiling(optimal_k / ncol_grid)\n",
    "\n",
    "# Set up plotting parameters for the grid display\n",
    "par(mfrow = c(nrow_grid, ncol_grid), mar = c(2, 2, 3, 2))\n",
    "\n",
    "for (t in 1:optimal_k) {\n",
    "  topic_words <- topic_terms %>%\n",
    "    filter(topic == t)\n",
    "  \n",
    "  wordcloud(words = topic_words$term, \n",
    "            freq = topic_words$beta,\n",
    "            min.freq = 1,\n",
    "            max.words = 100,\n",
    "            random.order = FALSE,\n",
    "            rot.per = 0.35,\n",
    "            colors = brewer.pal(8, \"Dark2\"))\n",
    "  title(paste(\"Topic\", t), cex.main = 1.2)\n",
    "}\n",
    "\n",
    "# dev.off()\n",
    "par(mfrow = c(1, 1))"
   ]
  },
  {
   "cell_type": "markdown",
   "id": "2cba27c2",
   "metadata": {},
   "source": [
    "## Sentiment Analysis\n",
    "\n",
    "We perform comprehensive sentiment analysis using three different approaches:\n",
    "\n",
    "### Bing Lexicon\n",
    "\n",
    "**Bing** is a simple lexicon-based method that classifies words as either _positive_ or _negative_. It uses a curated list of terms tagged with binary sentiment labels.\n",
    "\n",
    "- **Approach**:\n",
    "\n",
    "  - Each word in the text is looked up in the Bing lexicon.\n",
    "  - Words tagged as _positive_ or _negative_ are counted.\n",
    "  - Overall sentiment can be expressed as the difference or ratio of positive and negative word counts.\n",
    "\n",
    "\n",
    "### AFINN Lexicon\n",
    "\n",
    "**AFINN** is a lexicon-based method that assigns each word an integer sentiment score ranging from -5 to +5. Negative scores indicate negative sentiment, positive scores indicate positive sentiment, and magnitude represents intensity.\n",
    "\n",
    "- **Approach**:\n",
    "\n",
    "  - Each token is matched to its AFINN score.\n",
    "  - Aggregate statistics (mean, median, sum) of the scores provide sentiment measures for documents or clusters.\n",
    "\n",
    "### VADER (Valence Aware Dictionary and sEntiment Reasoner)\n",
    "\n",
    "**VADER** is a rule-based model specifically tuned for social media text. It accounts for context, including negations, intensifiers, punctuation emphasis, capitalization, and emoji.\n",
    "\n",
    "- **Approach**:\n",
    "\n",
    "  - Tokenize sentences and apply lexicon scores with rules for:\n",
    "    - **Negation handling** (e.g., \"not good\" flips positive score).\n",
    "    - **Intensity modifiers** (e.g., \"extremely\" amplifies sentiment).\n",
    "    - **Punctuation emphasis** (e.g., exclamation marks increase intensity).\n",
    "  - Produces four normalized scores:\n",
    "    - `pos`, `neu`, `neg`: proportions of text carrying each polarity.\n",
    "    - `compound`: normalized aggregate score ranging from -1 (most negative) to +1 (most positive).\n",
    "\n",
    "\n",
    "We analyze sentiment patterns within each topic to understand the emotional tone of different discussion themes."
   ]
  },
  {
   "cell_type": "code",
   "execution_count": 13,
   "id": "8483d393",
   "metadata": {
    "vscode": {
     "languageId": "r"
    }
   },
   "outputs": [],
   "source": [
    "# Sentiment analysis within each topic\n",
    "\n",
    "bing_sentiments <- readRDS(\"bing_lexicon.rds\")\n",
    "afinn_sentiments <- readRDS(\"afinn_lexicon.rds\")\n",
    "\n",
    "doc_topic_assignments <- doc_topics %>%\n",
    "  group_by(document) %>%\n",
    "  slice_max(gamma, n = 1, with_ties = FALSE) %>%\n",
    "  ungroup()\n",
    "\n",
    "# Add topic information to tidy_documents\n",
    "tidy_documents_with_topics <- tidy_documents %>%\n",
    "  left_join(doc_topic_assignments, by = c(\"document_id\" = \"document\")) %>%\n",
    "  filter(!is.na(topic))\n",
    "\n",
    "# Sentiment analysis using bing lexicon\n",
    "sentiment_by_topic <- tidy_documents_with_topics %>%\n",
    "  inner_join(bing_sentiments, by = \"word\") %>%\n",
    "  count(topic, sentiment) %>%\n",
    "  pivot_wider(names_from = sentiment, values_from = n, values_fill = 0) %>%\n",
    "  mutate(sentiment_score = (positive - negative) / (positive + negative))\n",
    "\n",
    "# AFINN sentiment scores\n",
    "afinn_by_topic <- tidy_documents_with_topics %>%\n",
    "  inner_join(afinn_sentiments, by = \"word\") %>%\n",
    "  group_by(topic) %>%\n",
    "  summarise(\n",
    "    mean_sentiment = mean(value, na.rm = TRUE),\n",
    "    median_sentiment = median(value, na.rm = TRUE),\n",
    "    total_words = n(),\n",
    "    .groups = \"drop\"\n",
    "  )"
   ]
  },
  {
   "cell_type": "code",
   "execution_count": 14,
   "id": "da5cf6c9",
   "metadata": {
    "vscode": {
     "languageId": "r"
    }
   },
   "outputs": [
    {
     "data": {
      "image/png": "[encoded data removed]",
      "text/plain": [
       "plot without title"
      ]
     },
     "metadata": {
      "image/png": {
       "height": 420,
       "width": 420
      }
     },
     "output_type": "display_data"
    },
    {
     "data": {
      "image/png": "[encoded data removed]",
      "text/plain": [
       "plot without title"
      ]
     },
     "metadata": {
      "image/png": {
       "height": 420,
       "width": 420
      }
     },
     "output_type": "display_data"
    }
   ],
   "source": [
    "# Visualize sentiment by topic (Bing lexicon)\n",
    "ggplot(sentiment_by_topic, aes(x = factor(topic))) +\n",
    "  geom_col(aes(y = positive), fill = \"green\", alpha = 0.7, position = \"identity\") +\n",
    "  geom_col(aes(y = -negative), fill = \"red\", alpha = 0.7, position = \"identity\") +\n",
    "  geom_hline(yintercept = 0, color = \"black\") +\n",
    "  labs(title = \"Sentiment Distribution by Topic (Bing Lexicon)\",\n",
    "       x = \"Topic\",\n",
    "       y = \"Word Count\") +\n",
    "  theme_minimal()\n",
    "\n",
    "\n",
    "# Net sentiment plot\n",
    "ggplot(sentiment_by_topic, aes(x = factor(topic), y = sentiment_score)) +\n",
    "  geom_col(aes(fill = sentiment_score > 0), alpha = 0.7) +\n",
    "  scale_fill_manual(values = c(\"red\", \"green\"), \n",
    "                    labels = c(\"Negative\", \"Positive\"),\n",
    "                    name = \"Overall Sentiment\") +\n",
    "  geom_hline(yintercept = 0, color = \"black\", linetype = \"dashed\") +\n",
    "  labs(title = \"Net Sentiment Score by Topic\",\n",
    "       x = \"Topic\",\n",
    "       y = \"Sentiment Score (Positive - Negative) / Total\") +\n",
    "  theme_minimal()"
   ]
  },
  {
   "cell_type": "code",
   "execution_count": 15,
   "id": "9405da20",
   "metadata": {
    "vscode": {
     "languageId": "r"
    }
   },
   "outputs": [
    {
     "data": {
      "image/png": "[encoded data removed]",
      "text/plain": [
       "plot without title"
      ]
     },
     "metadata": {
      "image/png": {
       "height": 420,
       "width": 420
      }
     },
     "output_type": "display_data"
    }
   ],
   "source": [
    "# Visualize AFINN sentiment by topic\n",
    "ggplot(afinn_by_topic, aes(x = factor(topic), y = mean_sentiment)) +\n",
    "  geom_col(aes(fill = mean_sentiment > 0), alpha = 0.7) +\n",
    "  scale_fill_manual(values = c(\"red\", \"green\"), \n",
    "                    labels = c(\"Negative\", \"Positive\"),\n",
    "                    name = \"Average Sentiment\") +\n",
    "  geom_hline(yintercept = 0, color = \"black\", linetype = \"dashed\") +\n",
    "  geom_text(aes(label = round(mean_sentiment, 2)), vjust = -0.5, size = 3) +\n",
    "  labs(title = \"AFINN Mean Sentiment Score by Topic\",\n",
    "       subtitle = \"Range: -5 (most negative) to +5 (most positive)\",\n",
    "       x = \"Topic\",\n",
    "       y = \"Mean AFINN Score\") +\n",
    "  theme_minimal()"
   ]
  },
  {
   "cell_type": "markdown",
   "id": "32dcc40c",
   "metadata": {},
   "source": [
    "The analyses with both the Bing and AFINN lexicons suggest that sentiments are negative on average across most of the topics. However, the analysis with the AFINN lexicon reports a slightly positive overall sentiment on topic 2, which is about energy technologies."
   ]
  },
  {
   "cell_type": "code",
   "execution_count": 16,
   "id": "91f0427c",
   "metadata": {
    "vscode": {
     "languageId": "r"
    }
   },
   "outputs": [],
   "source": [
    "# Install and load tidyvader package\n",
    "if (!requireNamespace(\"tidyvader\", quietly = TRUE)) {\n",
    "  if (!requireNamespace(\"devtools\", quietly = TRUE)) {\n",
    "    install.packages(\"devtools\")\n",
    "  }\n",
    "  devtools::install_github(\"chris31415926535/tidyvader\")\n",
    "}\n",
    "\n",
    "library(tidyvader)\n",
    "\n",
    "\n",
    "# First, we need to reconstruct the original text for each document to use VADER\n",
    "documents_for_vader <- all_documents %>%\n",
    "  left_join(doc_topic_assignments, by = c(\"document_id\" = \"document\")) %>%\n",
    "  filter(!is.na(topic)) %>% \n",
    "  mutate(\n",
    "    clean_text = str_squish(text) \n",
    "  ) %>%\n",
    "  filter(nchar(clean_text) > 0) %>% \n",
    "  select(document_id, topic, clean_text) \n",
    "\n",
    "vader_augmented_df <- tidyvader::vader(documents_for_vader, clean_text)\n",
    "\n",
    "vader_results <- vader_augmented_df %>%\n",
    "  select(document_id, topic, compound, pos, neu, neg) %>% \n",
    "  mutate(\n",
    "    compound = as.numeric(compound),\n",
    "    pos = as.numeric(pos),\n",
    "    neu = as.numeric(neu),\n",
    "    neg = as.numeric(neg)\n",
    "  )"
   ]
  },
  {
   "cell_type": "code",
   "execution_count": 17,
   "id": "7eb3526e",
   "metadata": {
    "vscode": {
     "languageId": "r"
    }
   },
   "outputs": [],
   "source": [
    "# Summarize VADER sentiment by topic\n",
    "vader_by_topic <- vader_results %>%\n",
    "  group_by(topic) %>%\n",
    "  summarise(\n",
    "    mean_compound = mean(compound, na.rm = TRUE),\n",
    "    median_compound = median(compound, na.rm = TRUE),\n",
    "    mean_positive = mean(pos, na.rm = TRUE),\n",
    "    mean_neutral = mean(neu, na.rm = TRUE),\n",
    "    mean_negative = mean(neg, na.rm = TRUE),\n",
    "    # Classify overall sentiment based on compound score thresholds\n",
    "    # Based on VADER documentation: >= 0.05 positive, <= -0.05 negative, between is neutral\n",
    "    very_positive = sum(compound >= 0.5, na.rm = TRUE),\n",
    "    positive_docs = sum(compound >= 0.05 & compound < 0.5, na.rm = TRUE),\n",
    "    neutral_docs = sum(compound > -0.05 & compound < 0.05, na.rm = TRUE),\n",
    "    negative_docs = sum(compound <= -0.05 & compound > -0.5, na.rm = TRUE),\n",
    "    very_negative = sum(compound <= -0.5, na.rm = TRUE),\n",
    "    total_docs = n(),\n",
    "    .groups = \"drop\"\n",
    "  ) %>%\n",
    "  mutate(\n",
    "    # Calculate percentages\n",
    "    pct_very_positive = round(very_positive / total_docs * 100, 1),\n",
    "    pct_positive = round(positive_docs / total_docs * 100, 1),\n",
    "    pct_neutral = round(neutral_docs / total_docs * 100, 1),\n",
    "    pct_negative = round(negative_docs / total_docs * 100, 1),\n",
    "    pct_very_negative = round(very_negative / total_docs * 100, 1)\n",
    "  )"
   ]
  },
  {
   "cell_type": "code",
   "execution_count": 18,
   "id": "1b121c0e",
   "metadata": {
    "vscode": {
     "languageId": "r"
    }
   },
   "outputs": [
    {
     "data": {
      "image/png": "[encoded data removed]",
      "text/plain": [
       "plot without title"
      ]
     },
     "metadata": {
      "image/png": {
       "height": 420,
       "width": 420
      }
     },
     "output_type": "display_data"
    },
    {
     "data": {
      "image/png": "[encoded data removed]",
      "text/plain": [
       "plot without title"
      ]
     },
     "metadata": {
      "image/png": {
       "height": 420,
       "width": 420
      }
     },
     "output_type": "display_data"
    }
   ],
   "source": [
    "# Visualize VADER sentiment distribution by topic\n",
    "vader_plot_data <- vader_by_topic %>%\n",
    "  select(topic, very_positive, positive_docs, neutral_docs, negative_docs, very_negative) %>%\n",
    "  pivot_longer(cols = -topic, names_to = \"sentiment_category\", values_to = \"count\") %>%\n",
    "  mutate(\n",
    "    sentiment_category = factor(sentiment_category, \n",
    "                               levels = c(\"very_negative\", \"negative_docs\", \"neutral_docs\", \n",
    "                                        \"positive_docs\", \"very_positive\"),\n",
    "                               labels = c(\"Very Negative\", \"Negative\", \"Neutral\", \n",
    "                                        \"Positive\", \"Very Positive\"))\n",
    "  )\n",
    "\n",
    "# Stacked bar chart for VADER sentiment distribution\n",
    "ggplot(vader_plot_data, aes(x = factor(topic), y = count, fill = sentiment_category)) +\n",
    "  geom_col(position = \"stack\") +\n",
    "  scale_fill_manual(values = c(\"darkred\", \"red\", \"gray\", \"green\", \"darkgreen\")) +\n",
    "  labs(title = \"VADER Sentiment Distribution by Topic\",\n",
    "       subtitle = \"Based on compound sentiment scores\",\n",
    "       x = \"Topic\",\n",
    "       y = \"Number of Documents\",\n",
    "       fill = \"Sentiment Category\") +\n",
    "  theme_minimal() +\n",
    "  theme(legend.position = \"bottom\")\n",
    "\n",
    "\n",
    "# VADER compound score by topic\n",
    "ggplot(vader_by_topic, aes(x = factor(topic), y = mean_compound)) +\n",
    "  geom_col(aes(fill = mean_compound > 0), alpha = 0.7) +\n",
    "  scale_fill_manual(values = c(\"red\", \"green\"), \n",
    "                    labels = c(\"Negative\", \"Positive\"),\n",
    "                    name = \"Overall Sentiment\",\n",
    "                    breaks = c(FALSE, TRUE)) +\n",
    "  geom_hline(yintercept = 0, color = \"black\", linetype = \"dashed\") +\n",
    "  geom_text(aes(label = round(mean_compound, 3)), vjust = -0.5, size = 3) +\n",
    "  labs(title = \"VADER Mean Compound Sentiment Score by Topic\",\n",
    "       subtitle = \"Range: -1 (most negative) to +1 (most positive)\",\n",
    "       x = \"Topic\",\n",
    "       y = \"Mean Compound Score\") +\n",
    "  theme_minimal()\n"
   ]
  },
  {
   "cell_type": "markdown",
   "id": "c210c05c",
   "metadata": {},
   "source": [
    "Unlike with the Bing and AFINN lexicons, we observe positive overall sentiments in all topics with VADER.\n",
    "\n",
    "The difference can be explained by the fact that Bing and AFINN are word-level lexicon methods, whereas VADER is a rule-based sentiment analyzer, which takes into account more context. For example, when negative words are used in a positive context, as in \"not bad\", Bing and AFINN would incorrectly detect negative sentiment as they would consider \"bad\" as a negative word. However, VADER is able to detect this and correctly detect a more positive sentiment."
   ]
  },
  {
   "cell_type": "code",
   "execution_count": 19,
   "id": "aa1c895e",
   "metadata": {
    "vscode": {
     "languageId": "r"
    }
   },
   "outputs": [
    {
     "data": {
      "image/png": "[encoded data removed]",
      "text/plain": [
       "plot without title"
      ]
     },
     "metadata": {
      "image/png": {
       "height": 420,
       "width": 420
      }
     },
     "output_type": "display_data"
    }
   ],
   "source": [
    "# Create comparison plot of all three sentiment methods\n",
    "sentiment_summary <- sentiment_by_topic %>%\n",
    "  left_join(afinn_by_topic, by = \"topic\") %>%\n",
    "  select(topic, positive, negative, sentiment_score, mean_sentiment, median_sentiment, total_words)\n",
    "\n",
    "\n",
    "# Update sentiment summary to include VADER results\n",
    "sentiment_summary_with_vader <- sentiment_summary %>%\n",
    "  left_join(vader_by_topic, by = \"topic\")\n",
    "\n",
    "\n",
    "# Prepare data for comparison plot\n",
    "comparison_data <- sentiment_summary_with_vader %>%\n",
    "  select(topic, \n",
    "         bing_score = sentiment_score,\n",
    "         afinn_score = mean_sentiment,\n",
    "         vader_score = mean_compound) %>%\n",
    "  pivot_longer(cols = c(bing_score, afinn_score, vader_score), \n",
    "               names_to = \"method\", values_to = \"score\") %>%\n",
    "  mutate(\n",
    "    method = factor(method, \n",
    "                   levels = c(\"bing_score\", \"afinn_score\", \"vader_score\"),\n",
    "                   labels = c(\"Bing Lexicon\", \"AFINN Lexicon\", \"VADER\"))\n",
    "  )\n",
    "\n",
    "# Create comparison plot\n",
    "ggplot(comparison_data, aes(x = factor(topic), y = score, fill = method)) +\n",
    "  geom_col(position = \"dodge\", alpha = 0.8) +\n",
    "  geom_hline(yintercept = 0, color = \"black\", linetype = \"dashed\") +\n",
    "  scale_fill_brewer(type = \"qual\", palette = \"Set2\") +\n",
    "  labs(title = \"Sentiment Analysis Methods Comparison by Topic\",\n",
    "       subtitle = \"Comparing Bing, AFINN, and VADER sentiment scores\",\n",
    "       x = \"Topic\",\n",
    "       y = \"Sentiment Score\",\n",
    "       fill = \"Method\",\n",
    "       caption = \"Note: Different scales - Bing: [-1,1], AFINN: typically [-5,5], VADER: [-1,1]\") +\n",
    "  theme_minimal() +\n",
    "  theme(legend.position = \"bottom\")\n"
   ]
  },
  {
   "cell_type": "markdown",
   "id": "56bc5750",
   "metadata": {},
   "source": [
    "## Named Entity Recognition (NER)\n",
    "\n",
    "Named Entity Recognition identifies and classifies real-world entities in text such as:\n",
    "- **PERSON**: Names of people\n",
    "- **ORG**: Organizations, companies, agencies\n",
    "- **GPE**: Geopolitical entities (countries, cities, states)\n",
    "- **LOC**: Locations (mountains, bodies of water)\n",
    "- **PRODUCT**: Products, software, technologies\n",
    "- **EVENT**: Named events, battles, sports events\n",
    "\n",
    "We use **spaCy's** pre-trained English model to extract entities from each document and analyze their distribution across topics. This helps identify what organizations, people, and technologies are most discussed within each thematic area."
   ]
  },
  {
   "cell_type": "code",
   "execution_count": 25,
   "id": "0c007ae9",
   "metadata": {
    "vscode": {
     "languageId": "r"
    }
   },
   "outputs": [
    {
     "name": "stderr",
     "output_type": "stream",
     "text": [
      "successfully initialized (spaCy Version: 3.8.7, language model: en_core_web_sm)\n",
      "\n"
     ]
    }
   ],
   "source": [
    "suppressWarnings({\n",
    "# Install and initialize spacyr\n",
    "if (!requireNamespace(\"spacyr\", quietly = TRUE)) {\n",
    "  install.packages(\"spacyr\")\n",
    "}\n",
    "\n",
    "library(spacyr)\n",
    "\n",
    "# Initialize spaCy\n",
    "spacy_initialize(model = \"en_core_web_sm\", ask = FALSE)\n",
    "\n",
    "# Prepare data for NER\n",
    "documents_for_ner <- all_documents %>%\n",
    "  left_join(doc_topic_assignments, by = c(\"document_id\" = \"document\")) %>%\n",
    "  filter(!is.na(topic) & !is.na(text) & text != \"\") %>%\n",
    "  select(doc_id = document_id, text, topic) # spacy_parse expects 'doc_id' and 'text'\n",
    "\n",
    "# Ensure text is character type\n",
    "documents_for_ner$text <- as.character(documents_for_ner$text)\n",
    "\n",
    "# Perform NER parsing\n",
    "parsed_entities <- spacy_parse(documents_for_ner, entity = TRUE, lemma = FALSE, pos = FALSE)})\n"
   ]
  },
  {
   "cell_type": "code",
   "execution_count": 21,
   "id": "dc60626c",
   "metadata": {
    "vscode": {
     "languageId": "r"
    }
   },
   "outputs": [
    {
     "data": {
      "image/png": "[encoded data removed]",
      "text/plain": [
       "plot without title"
      ]
     },
     "metadata": {
      "image/png": {
       "height": 420,
       "width": 420
      }
     },
     "output_type": "display_data"
    }
   ],
   "source": [
    "# Filter for actual entities and get entity text\n",
    "# Create a list of words to exclude (common words, articles, etc.)\n",
    "excluded_words <- c(\"the\", \"a\", \"an\", \"and\", \"or\", \"but\", \"in\", \"on\", \"at\", \"to\", \"for\", \n",
    "                   \"of\", \"with\", \"by\", \"from\", \"as\", \"is\", \"was\", \"are\", \"were\", \"be\", \n",
    "                   \"been\", \"being\", \"have\", \"has\", \"had\", \"do\", \"does\", \"did\", \"will\", \n",
    "                   \"would\", \"could\", \"should\", \"may\", \"might\", \"can\", \"must\", \"shall\",\n",
    "                   \"this\", \"that\", \"these\", \"those\", \"i\", \"you\", \"he\", \"she\", \"it\", \n",
    "                   \"we\", \"they\", \"me\", \"him\", \"her\", \"us\", \"them\", \"my\", \"your\", \n",
    "                   \"his\", \"her\", \"its\", \"our\", \"their\", \"myself\", \"yourself\", \"himself\",\n",
    "                   \"herself\", \"itself\", \"ourselves\", \"yourselves\", \"themselves\")\n",
    "\n",
    "entities_by_doc <- parsed_entities %>%\n",
    "  filter(entity != \"\") %>% # Keep only actual entities (use 'entity' column)\n",
    "  select(doc_id, entity_text = token, entity_type = entity) %>%\n",
    "  # Filter out common words, very short entities, and entities that are just numbers/symbols\n",
    "  filter(\n",
    "    !tolower(entity_text) %in% excluded_words,  # Remove common words\n",
    "    nchar(entity_text) >= 2,                    # Remove single characters\n",
    "    !grepl(\"^[0-9]+$\", entity_text),           # Remove pure numbers\n",
    "    !grepl(\"^[[:punct:]]+$\", entity_text),     # Remove pure punctuation\n",
    "    !entity_text %in% c(\"%\", \"$\", \"€\", \"£\"),   # Remove currency/percent symbols\n",
    "    # Keep only meaningful entity types (exclude some spaCy noise)\n",
    "    entity_type %in% c(\"PERSON\", \"ORG\", \"GPE\", \"LOC\", \"EVENT\", \"FAC\", \"PRODUCT\", \n",
    "                      \"WORK_OF_ART\", \"LAW\", \"LANGUAGE\", \"NORP\", \"MONEY\", \"PERCENT\",\n",
    "                      \"ORG_B\", \"ORG_I\", \"GPE_B\", \"GPE_I\", \"PERSON_B\", \"PERSON_I\",\n",
    "                      \"LOC_B\", \"LOC_I\", \"PRODUCT_B\", \"PRODUCT_I\", \"EVENT_B\", \"EVENT_I\")\n",
    "  )\n",
    "\n",
    "# Join with topic information\n",
    "entities_with_topics <- entities_by_doc %>%\n",
    "  left_join(distinct(documents_for_ner, doc_id, topic), by = \"doc_id\") %>%\n",
    "  filter(!is.na(topic))\n",
    "\n",
    "# Most frequent entities per topic (this is what \"dominant entities\" means)\n",
    "dominant_entities_per_topic <- entities_with_topics %>%\n",
    "  count(topic, entity_text, entity_type, sort = TRUE) %>%\n",
    "  group_by(topic) %>%\n",
    "  slice_max(n, n = 10) %>%\n",
    "  ungroup() %>%\n",
    "  arrange(topic, -n)\n",
    "\n",
    "ggplot(dominant_entities_per_topic, \n",
    "                                aes(x = reorder_within(entity_text, n, topic), \n",
    "                                    y = n, \n",
    "                                    fill = entity_type)) +\n",
    "  geom_col() +\n",
    "  facet_wrap(~ paste(\"Topic\", topic), scales = \"free_y\", ncol = 2) +\n",
    "  coord_flip() +\n",
    "  scale_x_reordered() +\n",
    "  scale_fill_viridis_d(name = \"Entity Type\") +\n",
    "  labs(title = \"Dominant Entities per Topic\",\n",
    "       subtitle = \"Most frequently mentioned entities by topic with entity type color coding\",\n",
    "       x = \"Entity\",\n",
    "       y = \"Frequency\") +\n",
    "  theme_minimal() +\n",
    "  theme(\n",
    "    plot.title = element_text(size = 16, face = \"bold\"),\n",
    "    plot.subtitle = element_text(size = 12),\n",
    "    strip.text = element_text(size = 11, face = \"bold\"),\n",
    "    axis.text.y = element_text(size = 9),\n",
    "    axis.text.x = element_text(size = 9),\n",
    "    legend.position = \"bottom\",\n",
    "    legend.title = element_text(size = 10),\n",
    "    legend.text = element_text(size = 9)\n",
    "  )\n",
    "\n",
    "spacy_finalize()"
   ]
  },
  {
   "cell_type": "markdown",
   "id": "73cce88d",
   "metadata": {},
   "source": [
    "Some entity types are described as follows:\n",
    "\n",
    "- **EVENT** : Events\n",
    "- **LOC** : Locations\n",
    "- **ORG** : Organizations\n",
    "- **GPE** : Geopolitical Entities\n",
    "- **PERSON** : Person\n",
    "\n",
    "We see that AI shows up in all the topics as a dominant entity. It is recognized as either an organization or a geopolitical entity. This might be because its capitalized acronym form resembles known entities of these types.\n",
    "\n",
    "Of all the topics, we see that the dominant entities identified for topics 1, 6, and 7 are most conisistent with the interpretations we made about the topics earlier. \n",
    "\n",
    "**Topic 1: Digital Access & Information**\n",
    "**Top entities:** AI, Google, Reddit, Gen, Meta, Zuckerberg, Ukraine, TikTok, Trump, DoS\n",
    "\n",
    "**Topic 6: AI Tools & Models**\n",
    "**Top entities:** AI, LLM, AGI, Google, Microsoft, OP, China, Reddit\n",
    "\n",
    "**Topic 7: Geopolitics & Global Issues**\n",
    "**Top entities:** China, EU, America, Europe, Russia, USA, South\n",
    "\\newpage"
   ]
  },
  {
   "cell_type": "markdown",
   "id": "97d6501d",
   "metadata": {},
   "source": [
    "# Future Direction and Improvements\n",
    "\n",
    "- Incorporate n-gram (bigram, trigram) analyses for better results with the Bing and AFINN lexicons.\n",
    "- Experiment with transformer models for sentiment analysis, which has become the state-of-the-art approach.\n",
    "- Explore trends across time instead of a static analysis.\n",
    "- Consider relationships between posts and comments. The current analysis treats each post and comment as an individual document.\n",
    "- Gather sentiments towards recognized entities \n",
    "\\newpage"
   ]
  },
  {
   "cell_type": "markdown",
   "id": "ac45752d",
   "metadata": {},
   "source": [
    "# References\n",
    "\n",
    "Here are some papers on some of the techniques used in this analysis\n",
    "\n",
    "**Tidy text analysis**\n",
    "\n",
    "- Silge, J. & Robinson, D. (2016). “tidytext: Text Mining Using dplyr, ggplot2, and Other Tidy Tools.” Journal of Open Source Software.\n",
    "\n",
    "**Topic modelling with LDA**\n",
    "\n",
    "- Blei, D. M., Ng, A. Y. & Jordan, M. I. (2003). “Latent Dirichlet Allocation.” Journal of Machine Learning Research 3.\n",
    "\n",
    "**Evaluating LDA models / picking K**\n",
    "\n",
    "- Newman, D. et al. (2010). “Automatic Evaluation of Topic Coherence.” HLT–NAACL 2010.\n",
    "- Arun, R. et al. (2010). “On Finding the Natural Number of Topics with Latent Dirichlet Allocation.” In PAKDD 2010 Workshops.\n",
    "\n",
    "**Sentiment Analysis**\n",
    "\n",
    "- Nielsen, F. Å. (2011). “A New ANEW: Evaluation of a Word List for Sentiment Analysis in Microblogs.” In Nordisk Sprogteknologi 2011.\n",
    "- Hu, M. & Liu, B. (2004). “Mining and Summarizing Customer Reviews.” KDD 2004.\n",
    "- Hutto, C. J. & Gilbert, E. (2014). “VADER: A Parsimonious Rule-based Model for Sentiment Analysis of Social Media Text.” ICWSM 2014.\n",
    "\n",
    "**NER**\n",
    "\n",
    "- Honnibal, M. & Montani, I. (2017). “spaCy 2: Natural Language Understanding with Bloom Embeddings.” To appear in ACL-demo (preprint)\n"
   ]
  }
 ],
 "metadata": {
  "kernelspec": {
   "display_name": "R",
   "language": "R",
   "name": "ir"
  },
  "language_info": {
   "codemirror_mode": "r",
   "file_extension": ".r",
   "mimetype": "text/x-r-source",
   "name": "R",
   "pygments_lexer": "r",
   "version": "4.4.2"
  }
 },
 "nbformat": 4,
 "nbformat_minor": 5
}
