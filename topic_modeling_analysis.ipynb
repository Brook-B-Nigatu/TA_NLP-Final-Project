{
 "cells": [
  {
   "cell_type": "markdown",
   "id": "cab639c4",
   "metadata": {},
   "source": [
    "# Topic Modeling Analysis of Reddit r/Futurology\n",
    "\n",
    "This notebook provides a comprehensive analysis of Reddit r/Futurology posts and comments using topic modeling, sentiment analysis, and named entity recognition (NER).\n",
    "\n",
    "## Overview\n",
    "- **Data**: Reddit submissions and comments from r/Futurology\n",
    "- **Topic Modeling**: Latent Dirichlet Allocation (LDA) with model evaluation\n",
    "- **Sentiment Analysis**: Multi-method approach using Bing, AFINN lexicons and VADER\n",
    "- **Named Entity Recognition**: Entity extraction and analysis using spaCy\n",
    "- **Evaluation**: Perplexity and coherence metrics for topic optimization\n",
    "- **Visualization**: Topic distributions, word clouds, sentiment patterns, and entity analysis"
   ]
  },
  {
   "cell_type": "code",
   "execution_count": 3,
   "id": "5b76da6a",
   "metadata": {
    "vscode": {
     "languageId": "r"
    }
   },
   "outputs": [
    {
     "name": "stdout",
     "output_type": "stream",
     "text": [
      "Package ldatuning not found. Installing...\n"
     ]
    },
    {
     "name": "stderr",
     "output_type": "stream",
     "text": [
      "Installing package into 'C:/Users/brook/AppData/Local/R/win-library/4.4'\n",
      "(as 'lib' is unspecified)\n",
      "\n",
      "Warning message:\n",
      "\"package 'ldatuning' is not available for this version of R\n",
      "\n",
      "A version of this package for your version of R might be available elsewhere,\n",
      "see the ideas at\n",
      "https://cran.r-project.org/doc/manuals/r-patched/R-admin.html#Installing-packages\"\n",
      "Warning message:\n",
      "\"package 'ldatuning' is not available for this version of R\n",
      "\n",
      "A version of this package for your version of R might be available elsewhere,\n",
      "see the ideas at\n",
      "https://cran.r-project.org/doc/manuals/r-patched/R-admin.html#Installing-packages\"\n"
     ]
    },
    {
     "name": "stdout",
     "output_type": "stream",
     "text": [
      "Loading required libraries...\n"
     ]
    },
    {
     "name": "stderr",
     "output_type": "stream",
     "text": [
      "Warning message:\n",
      "\"package 'textdata' was built under R version 4.4.3\"\n"
     ]
    },
    {
     "name": "stdout",
     "output_type": "stream",
     "text": [
      "All required libraries loaded successfully.\n",
      "\n"
     ]
    }
   ],
   "source": [
    "# Script Start: Install and Load Required Packages\n",
    "if (getOption(\"repos\")[\"CRAN\"] == \"@CRAN@\") {\n",
    "  options(repos = c(CRAN = \"https://cran.rstudio.com/\"))\n",
    "}\n",
    "# List of required packages\n",
    "required_packages <- c(\n",
    "  \"tidyverse\", \n",
    "  \"tidytext\", \n",
    "  \"topicmodels\", \n",
    "  \"tm\", \n",
    "  \"textdata\", \n",
    "  \"ggplot2\", \n",
    "  \"wordcloud\", \n",
    "  \"RColorBrewer\", \n",
    "  \"dplyr\",       # Often part of tidyverse, but good to list if used directly extensively\n",
    "  \"stringr\",     # Often part of tidyverse\n",
    "  \"broom\",\n",
    "  \"textstem\",    # For lemmatization\n",
    "  \"ldatuning\",   # For coherence calculations (if you decide to use a pre-built function)\n",
    "  \"reshape2\",    # For the melt function used in plotting\n",
    "  \"gridExtra\",   # For arranging multiple plots\n",
    "  \"devtools\",    # For installing packages from GitHub\n",
    "  \"spacyr\"       # For Named Entity Recognition\n",
    ")\n",
    "\n",
    "# Check if packages are installed, install if not\n",
    "for (pkg in required_packages) {\n",
    "  if (!requireNamespace(pkg, quietly = TRUE)) {\n",
    "    cat(paste(\"Package\", pkg, \"not found. Installing...\\n\"))\n",
    "    install.packages(pkg, dependencies = TRUE)\n",
    "  }\n",
    "}\n",
    "\n",
    "# Load all packages (suppressing startup messages for cleaner output if desired)\n",
    "cat(\"Loading required libraries...\\n\")\n",
    "suppressPackageStartupMessages({\n",
    "  library(tidyverse)\n",
    "  library(tidytext)\n",
    "  library(topicmodels)\n",
    "  library(tm)\n",
    "  library(textdata)\n",
    "  library(ggplot2)\n",
    "  library(wordcloud)\n",
    "  library(RColorBrewer)\n",
    "  library(dplyr)\n",
    "  library(stringr)\n",
    "  library(broom)\n",
    "  library(textstem)\n",
    "  # library(ldatuning) # Note: Your provided script has a custom coherence function. \n",
    "                     # ldatuning is useful if you want other pre-built topic tuning.\n",
    "                     # If you are only using your custom function, you might not strictly need it.\n",
    "  library(reshape2)\n",
    "  library(gridExtra)\n",
    "})\n",
    "\n",
    "cat(\"All required libraries loaded successfully.\\n\\n\")"
   ]
  },
  {
   "cell_type": "markdown",
   "id": "785fbebf",
   "metadata": {},
   "source": [
    "## Data Loading and Preprocessing\n",
    "\n",
    "First, we'll load the Reddit data and perform basic preprocessing steps including text cleaning, tokenization, and lemmatization."
   ]
  },
  {
   "cell_type": "code",
   "execution_count": 4,
   "id": "f0fa2aba",
   "metadata": {
    "vscode": {
     "languageId": "r"
    }
   },
   "outputs": [
    {
     "name": "stdout",
     "output_type": "stream",
     "text": [
      "[1] \"Loading data...\"\n",
      "[1] \"Step 1: Combining posts and comments...\"\n",
      "[1] \"Cleaned submissions: 429\"\n",
      "[1] \"Step 1: Combining posts and comments...\"\n",
      "[1] \"Cleaned submissions: 429\"\n"
     ]
    }
   ],
   "source": [
    "# Set working directory\n",
    "setwd(\"c:/Users/brook/Desktop/Courses/Year 1/Sem 2/Text Analysis/Project\")\n",
    "\n",
    "# Load data\n",
    "print(\"Loading data...\")\n",
    "submissions <- read.csv(\"futurology_submissions.csv\", stringsAsFactors = FALSE)\n",
    "comments <- read.csv(\"futurology_comments.csv\", stringsAsFactors = FALSE)\n",
    "\n",
    "# 1. Combine posts and submissions (treat each post body and each comment as one document)\n",
    "print(\"Step 1: Combining posts and comments...\")\n",
    "\n",
    "# Prepare submissions data\n",
    "submissions_clean <- submissions %>%\n",
    "  filter(!is.na(body) & body != \"\" & body != \"[deleted]\" & body != \"[removed]\") %>%\n",
    "  select(id, title, body, author, created_utc) %>%\n",
    "  mutate(\n",
    "    text = paste(title, body, sep = \" \"),\n",
    "    document_type = \"submission\",\n",
    "    document_id = paste0(\"sub_\", id)\n",
    "  ) %>%\n",
    "  select(document_id, text, document_type, author, created_utc)\n",
    "\n",
    "print(paste(\"Cleaned submissions:\", nrow(submissions_clean)))"
   ]
  },
  {
   "cell_type": "code",
   "execution_count": 5,
   "id": "4a028b8c",
   "metadata": {
    "vscode": {
     "languageId": "r"
    }
   },
   "outputs": [
    {
     "name": "stdout",
     "output_type": "stream",
     "text": [
      "[1] \"Total documents: 10785\"\n",
      "[1] \"Sampled down to 2000 documents for faster testing\"\n",
      "[1] \"Sampled down to 2000 documents for faster testing\"\n"
     ]
    }
   ],
   "source": [
    "# Prepare comments data\n",
    "comments_clean <- comments %>%\n",
    "  filter(!is.na(body) & body != \"\" & body != \"[deleted]\" & body != \"[removed]\") %>%\n",
    "  select(id, body, author, created_utc, submission_id) %>%\n",
    "  mutate(\n",
    "    text = body,\n",
    "    document_type = \"comment\",\n",
    "    document_id = paste0(\"com_\", id)\n",
    "  ) %>%\n",
    "  select(document_id, text, document_type, author, created_utc)\n",
    "\n",
    "# Combine all documents\n",
    "all_documents <- bind_rows(submissions_clean, comments_clean)\n",
    "print(paste(\"Total documents:\", nrow(all_documents)))\n",
    "\n",
    "# TEMPORARY: Sample 2000 documents for faster testing (remove this later)\n",
    "set.seed(123)  # For reproducible sampling\n",
    "if (nrow(all_documents) > 2000) {\n",
    "  all_documents <- all_documents %>%\n",
    "    sample_n(2000)\n",
    "  print(paste(\"Sampled down to\", nrow(all_documents), \"documents for faster testing\"))\n",
    "} else {\n",
    "  print(paste(\"Using all\", nrow(all_documents), \"documents (less than 2000)\"))\n",
    "}"
   ]
  },
  {
   "cell_type": "markdown",
   "id": "6637bf84",
   "metadata": {},
   "source": [
    "## Text Preprocessing and Tokenization\n",
    "\n",
    "We'll create custom stop words, tokenize the text, apply lemmatization, and prepare the data for topic modeling."
   ]
  },
  {
   "cell_type": "code",
   "execution_count": 6,
   "id": "c9d77171",
   "metadata": {
    "vscode": {
     "languageId": "r"
    }
   },
   "outputs": [
    {
     "name": "stdout",
     "output_type": "stream",
     "text": [
      "[1] \"Step 4: Tokenizing, lemmatizing, and removing stop words...\"\n"
     ]
    },
    {
     "name": "stderr",
     "output_type": "stream",
     "text": [
      "\u001b[1m\u001b[22mJoining with `by = join_by(word)`\n"
     ]
    },
    {
     "name": "stdout",
     "output_type": "stream",
     "text": [
      "[1] \"Total tokens after cleaning: 40858\"\n"
     ]
    }
   ],
   "source": [
    "# 4. Remove stop words and tokenize\n",
    "print(\"Step 4: Tokenizing, lemmatizing, and removing stop words...\")\n",
    "\n",
    "# Create custom stop words (combining standard English stop words with common Reddit terms)\n",
    "custom_stop_words <- bind_rows(\n",
    "  stop_words,\n",
    "  tibble(word = c(\"reddit\", \"sub\", \"subreddit\", \"post\", \"comment\", \"edit\", \"update\", \n",
    "                  \"deleted\", \"removed\", \"nbsp\", \"http\", \"https\", \"www\", \"com\",\n",
    "                  \"people\", \"thing\", \"things\", \"lot\", \"bit\", \"kind\", \"sort\",\n",
    "                  \"pretty\", \"really\", \"actually\", \"basically\", \"literally\"),\n",
    "         lexicon = \"custom\")\n",
    ")\n",
    "\n",
    "# Tokenize, lemmatize, and clean text\n",
    "tidy_documents <- all_documents %>%\n",
    "  unnest_tokens(word, text) %>%\n",
    "  filter(\n",
    "    !str_detect(word, \"^[0-9]+$\"),  # Remove pure numbers\n",
    "    # str_length(word) > 2,           # Remove very short words\n",
    "    !str_detect(word, \"^https?\"),   # Remove URLs\n",
    "    !str_detect(word, \"^[^a-z]\")    # Remove non-alphabetic words\n",
    "  ) %>%\n",
    "  mutate(word_lemma = lemmatize_words(word)) %>%  # Add lemmatization step\n",
    "  anti_join(custom_stop_words) # %>%  # Remove stop words after lemmatization\n",
    "#   filter(str_length(word_lemma) > 2)  # Remove very short lemmas\n",
    "\n",
    "print(paste(\"Total tokens after cleaning:\", nrow(tidy_documents)))"
   ]
  },
  {
   "cell_type": "code",
   "execution_count": 7,
   "id": "280549d4",
   "metadata": {
    "vscode": {
     "languageId": "r"
    }
   },
   "outputs": [
    {
     "name": "stdout",
     "output_type": "stream",
     "text": [
      "[1] \"Preparing document-term matrix for topic modeling...\"\n",
      "[1] \"DTM dimensions: 1981 x 7723\"\n",
      "[1] \"DTM dimensions: 1981 x 7723\"\n"
     ]
    }
   ],
   "source": [
    "# Create document-term matrix for topic modeling\n",
    "print(\"Preparing document-term matrix for topic modeling...\")\n",
    "\n",
    "# Count words per document\n",
    "doc_word_counts <- tidy_documents %>%\n",
    "  count(document_id, word_lemma, sort = TRUE)\n",
    "\n",
    "# Create document-term matrix\n",
    "dtm <- doc_word_counts %>%\n",
    "  cast_dtm(document_id, word_lemma, n)\n",
    "\n",
    "print(paste(\"DTM dimensions:\", nrow(dtm), \"x\", ncol(dtm)))"
   ]
  },
  {
   "cell_type": "markdown",
   "id": "919161a6",
   "metadata": {},
   "source": [
    "## Topic Model Evaluation Functions\n",
    "\n",
    "We'll define functions to calculate perplexity and coherence scores for evaluating different numbers of topics."
   ]
  },
  {
   "cell_type": "code",
   "execution_count": 8,
   "id": "fea1dcd5",
   "metadata": {
    "vscode": {
     "languageId": "r"
    }
   },
   "outputs": [
    {
     "name": "stdout",
     "output_type": "stream",
     "text": [
      "[1] \"Step 2: Topic modeling with different k values...\"\n"
     ]
    }
   ],
   "source": [
    "# 2. Topic modeling - try different numbers of topics and evaluate\n",
    "print(\"Step 2: Topic modeling with different k values...\")\n",
    "\n",
    "# Function to calculate coherence score (simplified version)\n",
    "calculate_perplexity <- function(lda_model, dtm) {\n",
    "  perplexity(lda_model, dtm)\n",
    "}\n",
    "\n",
    "# Function to calculate coherence score\n",
    "calculate_coherence <- function(lda_model, dtm, top_n = 10) {\n",
    "  # Extract top terms for each topic\n",
    "  topics_terms <- tidy(lda_model, matrix = \"beta\") %>%\n",
    "    group_by(topic) %>%\n",
    "    slice_max(beta, n = top_n) %>%\n",
    "    ungroup()\n",
    "  \n",
    "  # Calculate coherence using word co-occurrence\n",
    "  coherence_scores <- numeric(length(unique(topics_terms$topic)))\n",
    "  \n",
    "  for (topic_num in unique(topics_terms$topic)) {\n",
    "    topic_words <- topics_terms %>%\n",
    "      filter(topic == topic_num) %>%\n",
    "      pull(term)\n",
    "    \n",
    "    # Calculate pairwise coherence\n",
    "    coherence_sum <- 0\n",
    "    pair_count <- 0\n",
    "    \n",
    "    for (i in 1:(length(topic_words)-1)) {\n",
    "      for (j in (i+1):length(topic_words)) {\n",
    "        word1 <- topic_words[i]\n",
    "        word2 <- topic_words[j]\n",
    "        \n",
    "        # Count documents containing both words\n",
    "        docs_with_both <- sum(as.vector(dtm[, word1] > 0) & as.vector(dtm[, word2] > 0))\n",
    "        docs_with_word1 <- sum(as.vector(dtm[, word1] > 0))\n",
    "        \n",
    "        if (docs_with_word1 > 0) {\n",
    "          coherence_sum <- coherence_sum + log((docs_with_both + 1) / docs_with_word1)\n",
    "          pair_count <- pair_count + 1\n",
    "        }\n",
    "      }\n",
    "    }\n",
    "    \n",
    "    coherence_scores[topic_num] <- if (pair_count > 0) coherence_sum / pair_count else 0\n",
    "  }\n",
    "  \n",
    "  return(mean(coherence_scores))\n",
    "}"
   ]
  },
  {
   "cell_type": "markdown",
   "id": "63b47b25",
   "metadata": {},
   "source": [
    "## Topic Model Selection\n",
    "\n",
    "We'll test different numbers of topics and use both perplexity and coherence to select the optimal number."
   ]
  },
  {
   "cell_type": "code",
   "execution_count": 9,
   "id": "19b2ae2e",
   "metadata": {
    "vscode": {
     "languageId": "r"
    }
   },
   "outputs": [
    {
     "name": "stdout",
     "output_type": "stream",
     "text": [
      "[1] \"Fitting LDA model with k = 3\"\n",
      "[1] \"Perplexity for k = 3 : 2174.36\"\n",
      "[1] \"Coherence for k = 3 : -2.2014\"\n",
      "[1] \"Fitting LDA model with k = 4\"\n",
      "[1] \"Perplexity for k = 4 : 1998.45\"\n",
      "[1] \"Coherence for k = 4 : -2.2423\"\n"
     ]
    }
   ],
   "source": [
    "# Test different numbers of topics\n",
    "# k_values <- c(3, 5, 7, 10, 12, 15)\n",
    "k_values <- c(3, 4)\n",
    "topic_models <- list()\n",
    "perplexity_scores <- numeric(length(k_values))\n",
    "coherence_scores <- numeric(length(k_values))\n",
    "\n",
    "for (i in seq_along(k_values)) {\n",
    "  k <- k_values[i]\n",
    "  print(paste(\"Fitting LDA model with k =\", k))\n",
    "  \n",
    "  set.seed(123)  # For reproducibility\n",
    "  lda_model <- LDA(dtm, k = k, control = list(alpha = 0.1, seed = 123))\n",
    "  \n",
    "  topic_models[[i]] <- lda_model\n",
    "  perplexity_scores[i] <- calculate_perplexity(lda_model, dtm)\n",
    "  coherence_scores[i] <- calculate_coherence(lda_model, dtm)\n",
    "  \n",
    "  print(paste(\"Perplexity for k =\", k, \":\", round(perplexity_scores[i], 2)))\n",
    "  print(paste(\"Coherence for k =\", k, \":\", round(coherence_scores[i], 4)))\n",
    "}"
   ]
  },
  {
   "cell_type": "code",
   "execution_count": 10,
   "id": "1f7570a9",
   "metadata": {
    "vscode": {
     "languageId": "r"
    }
   },
   "outputs": [
    {
     "name": "stdout",
     "output_type": "stream",
     "text": [
      "[1] \"Optimal number of topics (combined metric): 3\"\n",
      "[1] \"Best perplexity score: 2174.36\"\n",
      "[1] \"Best coherence score: -2.2014\"\n",
      "[1] \"Best combined score: 0.5\"\n",
      "[1] \"Best perplexity score: 2174.36\"\n",
      "[1] \"Best coherence score: -2.2014\"\n",
      "[1] \"Best combined score: 0.5\"\n"
     ]
    }
   ],
   "source": [
    "# Normalize scores for comparison (higher is better for both after normalization)\n",
    "# For perplexity, we want lower values, so we invert the ranking\n",
    "normalized_perplexity <- (max(perplexity_scores) - perplexity_scores) / (max(perplexity_scores) - min(perplexity_scores))\n",
    "# For coherence, higher is already better\n",
    "normalized_coherence <- (coherence_scores - min(coherence_scores)) / (max(coherence_scores) - min(coherence_scores))\n",
    "\n",
    "# Combined score (equal weighting)\n",
    "combined_scores <- (normalized_perplexity + normalized_coherence) / 2\n",
    "\n",
    "# Choose optimal number of topics based on combined score\n",
    "optimal_k_index <- which.max(combined_scores)\n",
    "optimal_k <- k_values[optimal_k_index]\n",
    "optimal_model <- topic_models[[optimal_k_index]]\n",
    "\n",
    "print(paste(\"Optimal number of topics (combined metric):\", optimal_k))\n",
    "print(paste(\"Best perplexity score:\", round(perplexity_scores[optimal_k_index], 2)))\n",
    "print(paste(\"Best coherence score:\", round(coherence_scores[optimal_k_index], 4)))\n",
    "print(paste(\"Best combined score:\", round(combined_scores[optimal_k_index], 4)))"
   ]
  },
  {
   "cell_type": "markdown",
   "id": "349d25af",
   "metadata": {},
   "source": [
    "## Model Evaluation Visualization\n",
    "\n",
    "Let's visualize the evaluation metrics to understand how the models perform across different numbers of topics."
   ]
  },
  {
   "cell_type": "code",
   "execution_count": 11,
   "id": "4781f916",
   "metadata": {
    "vscode": {
     "languageId": "r"
    }
   },
   "outputs": [
    {
     "name": "stdout",
     "output_type": "stream",
     "text": [
      "[1] \"Complete evaluation results:\"\n",
      "  k perplexity coherence normalized_perplexity normalized_coherence\n",
      "1 3   2174.365 -2.201394                     0                    1\n",
      "2 4   1998.452 -2.242261                     1                    0\n",
      "  combined_score\n",
      "1            0.5\n",
      "2            0.5\n",
      "  k perplexity coherence normalized_perplexity normalized_coherence\n",
      "1 3   2174.365 -2.201394                     0                    1\n",
      "2 4   1998.452 -2.242261                     1                    0\n",
      "  combined_score\n",
      "1            0.5\n",
      "2            0.5\n"
     ]
    }
   ],
   "source": [
    "# Create comprehensive evaluation dataframe\n",
    "evaluation_df <- data.frame(\n",
    "  k = k_values,\n",
    "  perplexity = perplexity_scores,\n",
    "  coherence = coherence_scores,\n",
    "  normalized_perplexity = normalized_perplexity,\n",
    "  normalized_coherence = normalized_coherence,\n",
    "  combined_score = combined_scores\n",
    ")\n",
    "\n",
    "print(\"Complete evaluation results:\")\n",
    "print(evaluation_df)"
   ]
  },
  {
   "cell_type": "code",
   "execution_count": 12,
   "id": "b3310646",
   "metadata": {
    "vscode": {
     "languageId": "r"
    }
   },
   "outputs": [
    {
     "name": "stderr",
     "output_type": "stream",
     "text": [
      "Warning message:\n",
      "\"\u001b[1m\u001b[22mUsing `size` aesthetic for lines was deprecated in ggplot2 3.4.0.\n",
      "\u001b[36mℹ\u001b[39m Please use `linewidth` instead.\"\n"
     ]
    },
    {
     "data": {
      "image/png": "[encoded data removed]",
      "text/plain": [
       "plot without title"
      ]
     },
     "metadata": {
      "image/png": {
       "height": 420,
       "width": 420
      }
     },
     "output_type": "display_data"
    }
   ],
   "source": [
    "# Plot all metrics\n",
    "library(reshape2)\n",
    "metrics_long <- evaluation_df %>%\n",
    "  select(k, normalized_perplexity, normalized_coherence, combined_score) %>%\n",
    "  melt(id.vars = \"k\", variable.name = \"metric\", value.name = \"score\")\n",
    "\n",
    "ggplot(metrics_long, aes(x = k, y = score, color = metric)) +\n",
    "  geom_line(size = 1) +\n",
    "  geom_point(size = 3) +\n",
    "  geom_vline(xintercept = optimal_k, color = \"red\", linetype = \"dashed\", alpha = 0.7) +\n",
    "  scale_color_manual(values = c(\"blue\", \"green\", \"purple\"),\n",
    "                     labels = c(\"Normalized Perplexity (inverted)\", \"Normalized Coherence\", \"Combined Score\")) +\n",
    "  labs(title = \"Topic Model Evaluation Metrics\",\n",
    "       subtitle = paste(\"Optimal k =\", optimal_k, \"(based on combined score)\"),\n",
    "       x = \"Number of Topics (k)\",\n",
    "       y = \"Normalized Score (higher is better)\",\n",
    "       color = \"Metric\") +\n",
    "  theme_minimal() +\n",
    "  theme(legend.position = \"bottom\")\n",
    "\n",
    "if (!dir.exists(\"output\")) dir.create(\"output\")\n",
    "\n",
    "ggsave(\"output/topic_model_evaluation_comprehensive.png\", width = 12, height = 8, dpi = 300)"
   ]
  },
  {
   "cell_type": "code",
   "execution_count": 13,
   "id": "b5b6c261",
   "metadata": {
    "vscode": {
     "languageId": "r"
    }
   },
   "outputs": [
    {
     "data": {
      "image/png": "[encoded data removed]",
      "text/plain": [
       "plot without title"
      ]
     },
     "metadata": {
      "image/png": {
       "height": 420,
       "width": 420
      }
     },
     "output_type": "display_data"
    }
   ],
   "source": [
    "# Individual plots for detailed view\n",
    "# Perplexity plot\n",
    "perplexity_df <- data.frame(k = k_values, perplexity = perplexity_scores)\n",
    "p1 <- ggplot(perplexity_df, aes(x = k, y = perplexity)) +\n",
    "  geom_line() +\n",
    "  geom_point() +\n",
    "  geom_vline(xintercept = optimal_k, color = \"red\", linetype = \"dashed\") +\n",
    "  labs(title = \"Model Perplexity by Number of Topics\",\n",
    "       subtitle = \"Lower is better\",\n",
    "       x = \"Number of Topics (k)\",\n",
    "       y = \"Perplexity\") +\n",
    "  theme_minimal()\n",
    "\n",
    "# Coherence plot\n",
    "coherence_df <- data.frame(k = k_values, coherence = coherence_scores)\n",
    "p2 <- ggplot(coherence_df, aes(x = k, y = coherence)) +\n",
    "  geom_line() +\n",
    "  geom_point() +\n",
    "  geom_vline(xintercept = optimal_k, color = \"red\", linetype = \"dashed\") +\n",
    "  labs(title = \"Model Coherence by Number of Topics\",\n",
    "       subtitle = \"Higher is better\",\n",
    "       x = \"Number of Topics (k)\",\n",
    "       y = \"Coherence Score\") +\n",
    "  theme_minimal()\n",
    "\n",
    "# Combined plot\n",
    "library(gridExtra)\n",
    "grid.arrange(p1, p2, ncol = 2)\n",
    "ggsave(\"output/perplexity_and_coherence_plots.png\", width = 15, height = 6, dpi = 300)\n",
    "\n",
    "# Extract topic assignments for documents\n",
    "doc_topics <- tidy(optimal_model, matrix = \"gamma\") %>%\n",
    "  group_by(document) %>%\n",
    "  slice_max(gamma, n = 1) %>%\n",
    "  ungroup()"
   ]
  },
  {
   "cell_type": "markdown",
   "id": "860afa31",
   "metadata": {},
   "source": [
    "## Topic Distribution Analysis\n",
    "\n",
    "Now let's analyze how documents are distributed across the identified topics."
   ]
  },
  {
   "cell_type": "code",
   "execution_count": 14,
   "id": "7f91f701",
   "metadata": {
    "vscode": {
     "languageId": "r"
    }
   },
   "outputs": [
    {
     "name": "stdout",
     "output_type": "stream",
     "text": [
      "[1] \"Step 3: Counting documents per topic...\"\n",
      "[1] \"Documents per topic:\"\n",
      "\u001b[90m# A tibble: 3 × 3\u001b[39m\n",
      "  topic     n percentage\n",
      "  \u001b[3m\u001b[90m<int>\u001b[39m\u001b[23m \u001b[3m\u001b[90m<int>\u001b[39m\u001b[23m      \u001b[3m\u001b[90m<dbl>\u001b[39m\u001b[23m\n",
      "\u001b[90m1\u001b[39m     1   746       37.7\n",
      "\u001b[90m2\u001b[39m     2   670       33.8\n",
      "\u001b[90m3\u001b[39m     3   565       28.5\n",
      "[1] \"Documents per topic:\"\n",
      "\u001b[90m# A tibble: 3 × 3\u001b[39m\n",
      "  topic     n percentage\n",
      "  \u001b[3m\u001b[90m<int>\u001b[39m\u001b[23m \u001b[3m\u001b[90m<int>\u001b[39m\u001b[23m      \u001b[3m\u001b[90m<dbl>\u001b[39m\u001b[23m\n",
      "\u001b[90m1\u001b[39m     1   746       37.7\n",
      "\u001b[90m2\u001b[39m     2   670       33.8\n",
      "\u001b[90m3\u001b[39m     3   565       28.5\n"
     ]
    }
   ],
   "source": [
    "# 3. Number of documents in each topic\n",
    "print(\"Step 3: Counting documents per topic...\")\n",
    "\n",
    "documents_per_topic <- doc_topics %>%\n",
    "  count(topic, sort = TRUE) %>%\n",
    "  mutate(percentage = round(n / sum(n) * 100, 1))\n",
    "\n",
    "print(\"Documents per topic:\")\n",
    "print(documents_per_topic)"
   ]
  },
  {
   "cell_type": "code",
   "execution_count": 15,
   "id": "6513d7c9",
   "metadata": {
    "vscode": {
     "languageId": "r"
    }
   },
   "outputs": [
    {
     "data": {
      "image/png": "[encoded data removed]",
      "text/plain": [
       "plot without title"
      ]
     },
     "metadata": {
      "image/png": {
       "height": 420,
       "width": 420
      }
     },
     "output_type": "display_data"
    }
   ],
   "source": [
    "# Visualize documents per topic\n",
    "ggplot(documents_per_topic, aes(x = reorder(factor(topic), n), y = n)) +\n",
    "  geom_col(fill = \"steelblue\", alpha = 0.7) +\n",
    "  geom_text(aes(label = paste0(n, \" (\", percentage, \"%)\")), \n",
    "            hjust = -0.1, size = 3) +\n",
    "  coord_flip() +\n",
    "  labs(title = \"Number of Documents per Topic\",\n",
    "       x = \"Topic\",\n",
    "       y = \"Number of Documents\") +\n",
    "  theme_minimal()\n",
    "\n",
    "ggsave(\"output/documents_per_topic.png\", width = 10, height = 6, dpi = 300)"
   ]
  },
  {
   "cell_type": "markdown",
   "id": "81b7b439",
   "metadata": {},
   "source": [
    "## Topic Characterization\n",
    "\n",
    "Let's examine the most characteristic words for each topic to understand their thematic content."
   ]
  },
  {
   "cell_type": "code",
   "execution_count": 16,
   "id": "39f23381",
   "metadata": {
    "vscode": {
     "languageId": "r"
    }
   },
   "outputs": [
    {
     "name": "stdout",
     "output_type": "stream",
     "text": [
      "[1] \"Step 5: Finding most common words...\"\n",
      "[1] \"Top words per topic:\"\n",
      "\n",
      "Topic 1 :\n",
      "ai, time, social, medium, computer, internet, system, kid, job, life \n",
      "\n",
      "Topic 2 :\n",
      "care, time, live, life, parent, pay, money, it’s, country, human \n",
      "\n",
      "Topic 3 :\n",
      "ai, human, it’s, system, time, build, future, world, energy, china \n",
      "[1] \"Top words per topic:\"\n",
      "\n",
      "Topic 1 :\n",
      "ai, time, social, medium, computer, internet, system, kid, job, life \n",
      "\n",
      "Topic 2 :\n",
      "care, time, live, life, parent, pay, money, it’s, country, human \n",
      "\n",
      "Topic 3 :\n",
      "ai, human, it’s, system, time, build, future, world, energy, china \n"
     ]
    }
   ],
   "source": [
    "# 5. Most common words overall and for each topic\n",
    "print(\"Step 5: Finding most common words...\")\n",
    "\n",
    "# Most common words per topic\n",
    "topic_terms <- tidy(optimal_model, matrix = \"beta\") %>%\n",
    "  group_by(topic) %>%\n",
    "  slice_max(beta, n = 10) %>%\n",
    "  ungroup() %>%\n",
    "  arrange(topic, -beta)\n",
    "\n",
    "print(\"Top words per topic:\")\n",
    "for (t in 1:optimal_k) {\n",
    "  cat(\"\\nTopic\", t, \":\\n\")\n",
    "  topic_words <- topic_terms %>%\n",
    "    filter(topic == t) %>%\n",
    "    pull(term)\n",
    "  cat(paste(topic_words, collapse = \", \"), \"\\n\")\n",
    "}"
   ]
  },
  {
   "cell_type": "code",
   "execution_count": 17,
   "id": "ee9fbbb4",
   "metadata": {
    "vscode": {
     "languageId": "r"
    }
   },
   "outputs": [
    {
     "data": {
      "image/png": "[encoded data removed]",
      "text/plain": [
       "plot without title"
      ]
     },
     "metadata": {
      "image/png": {
       "height": 420,
       "width": 420
      }
     },
     "output_type": "display_data"
    }
   ],
   "source": [
    "# Visualize top words per topic\n",
    "ggplot(topic_terms, aes(x = reorder_within(term, beta, topic), y = beta, fill = factor(topic))) +\n",
    "  geom_col(show.legend = FALSE) +\n",
    "  facet_wrap(~ topic, scales = \"free\") +\n",
    "  coord_flip() +\n",
    "  scale_x_reordered() +\n",
    "  labs(title = \"Top Words per Topic\",\n",
    "       x = \"Word\",\n",
    "       y = \"Beta (Word-Topic Probability)\") +\n",
    "  theme_minimal() +\n",
    "  theme(strip.text = element_text(size = 10))\n",
    "\n",
    "ggsave(\"output/top_words_per_topic.png\", width = 15, height = 10, dpi = 300)"
   ]
  },
  {
   "cell_type": "markdown",
   "id": "0f606b07",
   "metadata": {},
   "source": [
    "## Word Clouds by Topic\n",
    "\n",
    "Word clouds provide an intuitive visualization of the most important terms in each topic."
   ]
  },
  {
   "cell_type": "code",
   "execution_count": 18,
   "id": "2abed6fd",
   "metadata": {
    "vscode": {
     "languageId": "r"
    }
   },
   "outputs": [
    {
     "name": "stdout",
     "output_type": "stream",
     "text": [
      "[1] \"Creating word clouds for each topic...\"\n"
     ]
    }
   ],
   "source": [
    "# Create word clouds for each topic\n",
    "print(\"Creating word clouds for each topic...\")\n",
    "\n",
    "for (t in 1:optimal_k) {\n",
    "  topic_words <- topic_terms %>%\n",
    "    filter(topic == t) %>%\n",
    "    arrange(-beta)\n",
    "  \n",
    "  png(file.path(\"output\", paste0(\"wordcloud_topic_\", t, \".png\")), width = 800, height = 600)\n",
    "  wordcloud(words = topic_words$term, \n",
    "            freq = topic_words$beta,\n",
    "            max.words = 50,\n",
    "            random.order = FALSE,\n",
    "            rot.per = 0.35,\n",
    "            colors = brewer.pal(8, \"Dark2\"))\n",
    "  title(paste(\"Topic\", t, \"Word Cloud\"))\n",
    "  dev.off()\n",
    "}"
   ]
  },
  {
   "cell_type": "markdown",
   "id": "4deb0e7d",
   "metadata": {},
   "source": [
    "## Overall Word Frequency Analysis\n",
    "\n",
    "Let's also look at the most common words across all documents to understand the general vocabulary of the corpus."
   ]
  },
  {
   "cell_type": "code",
   "execution_count": 19,
   "id": "bf09c064",
   "metadata": {
    "vscode": {
     "languageId": "r"
    }
   },
   "outputs": [
    {
     "name": "stdout",
     "output_type": "stream",
     "text": [
      "[1] \"Top 20 most common lemmatized words overall:\"\n",
      "   word_lemma   n\n",
      "1          ai 487\n",
      "2        time 251\n",
      "3       human 241\n",
      "4        it’s 197\n",
      "5      system 190\n",
      "6        care 169\n",
      "7       world 157\n",
      "8        life 156\n",
      "9      future 147\n",
      "10       live 136\n",
      "11        job 127\n",
      "12        bad 122\n",
      "13        kid 121\n",
      "14     social 117\n",
      "15        pay 108\n",
      "16   computer 105\n",
      "17      learn 105\n",
      "18     change 104\n",
      "19    country 103\n",
      "20      money 103\n",
      "   word_lemma   n\n",
      "1          ai 487\n",
      "2        time 251\n",
      "3       human 241\n",
      "4        it’s 197\n",
      "5      system 190\n",
      "6        care 169\n",
      "7       world 157\n",
      "8        life 156\n",
      "9      future 147\n",
      "10       live 136\n",
      "11        job 127\n",
      "12        bad 122\n",
      "13        kid 121\n",
      "14     social 117\n",
      "15        pay 108\n",
      "16   computer 105\n",
      "17      learn 105\n",
      "18     change 104\n",
      "19    country 103\n",
      "20      money 103\n"
     ]
    },
    {
     "data": {
      "image/png": "[encoded data removed]",
      "text/plain": [
       "plot without title"
      ]
     },
     "metadata": {
      "image/png": {
       "height": 420,
       "width": 420
      }
     },
     "output_type": "display_data"
    }
   ],
   "source": [
    "# Overall most common words\n",
    "overall_word_freq <- tidy_documents %>%\n",
    "  count(word_lemma, sort = TRUE) %>%\n",
    "  slice_head(n = 20)\n",
    "\n",
    "print(\"Top 20 most common lemmatized words overall:\")\n",
    "print(overall_word_freq)\n",
    "\n",
    "# Visualize top words\n",
    "ggplot(overall_word_freq, aes(x = reorder(word_lemma, n), y = n)) +\n",
    "  geom_col(fill = \"darkblue\", alpha = 0.7) +\n",
    "  coord_flip() +\n",
    "  labs(title = \"Top 20 Most Frequent Words\",\n",
    "       subtitle = \"After preprocessing and lemmatization\",\n",
    "       x = \"Word (Lemmatized)\",\n",
    "       y = \"Frequency\") +\n",
    "  theme_minimal() +\n",
    "  theme(axis.title = element_text(size = 12),\n",
    "        plot.title = element_text(size = 14, face = \"bold\"))"
   ]
  },
  {
   "cell_type": "markdown",
   "id": "2094b73f",
   "metadata": {},
   "source": [
    "## Topic Modeling Summary\n",
    "\n",
    "Let's create a summary of our topic modeling results before proceeding to sentiment analysis."
   ]
  },
  {
   "cell_type": "code",
   "execution_count": 20,
   "id": "7cef1f8d",
   "metadata": {
    "vscode": {
     "languageId": "r"
    }
   },
   "outputs": [
    {
     "name": "stdout",
     "output_type": "stream",
     "text": [
      "\n",
      " ============================================================ \n",
      "TOPIC MODELING ANALYSIS SUMMARY\n",
      "============================================================ \n",
      "\n",
      "**DATA OVERVIEW:**\n",
      "- Total documents analyzed: 2000 \n",
      "- Total tokens after cleaning: 40858 \n",
      "- Submissions: 0 \n",
      "- Comments: 0 \n",
      "TOPIC MODELING ANALYSIS SUMMARY\n",
      "============================================================ \n",
      "\n",
      "**DATA OVERVIEW:**\n",
      "- Total documents analyzed: 2000 \n",
      "- Total tokens after cleaning: 40858 \n",
      "- Submissions: 0 \n",
      "- Comments: 0 \n",
      "\n",
      "**TOPIC MODELING RESULTS:**\n",
      "- Optimal number of topics: 3 \n",
      "- Best perplexity score: 2174.36 \n",
      "- Best coherence score: -2.2014 \n",
      "\n",
      "**TOPIC DISTRIBUTION:**\n",
      "- Topic 1 : 746 documents ( 37.7 %); top terms: ai, time, social \n",
      "- Topic 2 : 670 documents ( 33.8 %); top terms: care, time, live \n",
      "- Topic 3 : 565 documents ( 28.5 %); top terms: ai, human, it’s \n",
      "\n",
      "**TOPIC MODELING RESULTS:**\n",
      "- Optimal number of topics: 3 \n",
      "- Best perplexity score: 2174.36 \n",
      "- Best coherence score: -2.2014 \n",
      "\n",
      "**TOPIC DISTRIBUTION:**\n",
      "- Topic 1 : 746 documents ( 37.7 %); top terms: ai, time, social \n",
      "- Topic 2 : 670 documents ( 33.8 %); top terms: care, time, live \n",
      "- Topic 3 : 565 documents ( 28.5 %); top terms: ai, human, it’s \n",
      "\n",
      "**NEXT STEPS:**\n",
      "- Proceeding to sentiment analysis by topic\n",
      "- Named entity recognition analysis\n",
      "- Comprehensive final summary and insights\n",
      "\n",
      "**NEXT STEPS:**\n",
      "- Proceeding to sentiment analysis by topic\n",
      "- Named entity recognition analysis\n",
      "- Comprehensive final summary and insights\n"
     ]
    }
   ],
   "source": [
    "# Create topic modeling summary\n",
    "cat(\"\\n\", paste(rep(\"=\", 60), collapse = \"\"), \"\\n\")\n",
    "cat(\"TOPIC MODELING ANALYSIS SUMMARY\\n\")\n",
    "cat(paste(rep(\"=\", 60), collapse = \"\"), \"\\n\")\n",
    "\n",
    "cat(\"\\n**DATA OVERVIEW:**\\n\")\n",
    "cat(\"- Total documents analyzed:\", nrow(all_documents), \"\\n\")\n",
    "cat(\"- Total tokens after cleaning:\", nrow(tidy_documents), \"\\n\")\n",
    "cat(\"- Submissions:\", sum(all_documents$type == \"submission\"), \"\\n\")\n",
    "cat(\"- Comments:\", sum(all_documents$type == \"comment\"), \"\\n\")\n",
    "\n",
    "cat(\"\\n**TOPIC MODELING RESULTS:**\\n\")\n",
    "cat(\"- Optimal number of topics:\", optimal_k, \"\\n\")\n",
    "cat(\"- Best perplexity score:\", round(perplexity_scores[optimal_k_index], 2), \"\\n\")\n",
    "cat(\"- Best coherence score:\", round(coherence_scores[optimal_k_index], 4), \"\\n\")\n",
    "\n",
    "cat(\"\\n**TOPIC DISTRIBUTION:**\\n\")\n",
    "for (i in 1:nrow(documents_per_topic)) {\n",
    "  top_terms <- topic_terms %>% \n",
    "    filter(topic == documents_per_topic$topic[i]) %>% \n",
    "    slice_head(n = 3) %>% \n",
    "    pull(term)\n",
    "  \n",
    "  cat(\"- Topic\", documents_per_topic$topic[i], \":\", \n",
    "      documents_per_topic$n[i], \"documents (\", \n",
    "      documents_per_topic$percentage[i], \"%); top terms:\", \n",
    "      paste(top_terms, collapse = \", \"), \"\\n\")\n",
    "}\n",
    "\n",
    "cat(\"\\n**NEXT STEPS:**\\n\")\n",
    "cat(\"- Proceeding to sentiment analysis by topic\\n\")\n",
    "cat(\"- Named entity recognition analysis\\n\")\n",
    "cat(\"- Comprehensive final summary and insights\\n\")"
   ]
  },
  {
   "cell_type": "markdown",
   "id": "e1aec9c3",
   "metadata": {},
   "source": [
    "## Sentiment Analysis by Topic\n",
    "\n",
    "Now that we have identified the topics, let's analyze the sentiment within each topic using multiple approaches: Bing lexicon, AFINN lexicon, and VADER sentiment analysis."
   ]
  },
  {
   "cell_type": "code",
   "execution_count": 21,
   "id": "8c3d95a2",
   "metadata": {
    "vscode": {
     "languageId": "r"
    }
   },
   "outputs": [
    {
     "name": "stdout",
     "output_type": "stream",
     "text": [
      "[1] \"Sentiment lexicons loaded and topic assignments prepared.\"\n"
     ]
    }
   ],
   "source": [
    "# Load sentiment lexicons\n",
    "bing_sentiments <- readRDS(\"bing_lexicon.rds\")\n",
    "afinn_sentiments <- readRDS(\"afinn_lexicon.rds\")\n",
    "\n",
    "# Create topic assignments for joining\n",
    "doc_topic_assignments <- doc_topics %>%\n",
    "  select(document = document, topic)\n",
    "\n",
    "# Add topic information to tidy_documents\n",
    "tidy_documents_with_topics <- tidy_documents %>%\n",
    "  left_join(doc_topic_assignments, by = c(\"document_id\" = \"document\"))\n",
    "\n",
    "print(\"Sentiment lexicons loaded and topic assignments prepared.\")"
   ]
  },
  {
   "cell_type": "code",
   "execution_count": 22,
   "id": "30c2c94b",
   "metadata": {
    "vscode": {
     "languageId": "r"
    }
   },
   "outputs": [
    {
     "name": "stdout",
     "output_type": "stream",
     "text": [
      "[1] \"Sentiment analysis by topic (Bing lexicon):\"\n",
      "\u001b[90m# A tibble: 3 × 6\u001b[39m\n",
      "  topic negative positive total_sentiment_words sentiment_score net_sentiment\n",
      "  \u001b[3m\u001b[90m<int>\u001b[39m\u001b[23m    \u001b[3m\u001b[90m<int>\u001b[39m\u001b[23m    \u001b[3m\u001b[90m<int>\u001b[39m\u001b[23m                 \u001b[3m\u001b[90m<int>\u001b[39m\u001b[23m           \u001b[3m\u001b[90m<dbl>\u001b[39m\u001b[23m         \u001b[3m\u001b[90m<int>\u001b[39m\u001b[23m\n",
      "\u001b[90m1\u001b[39m     1     \u001b[4m1\u001b[24m111      770                  \u001b[4m1\u001b[24m881          -\u001b[31m0\u001b[39m\u001b[31m.\u001b[39m\u001b[31m181\u001b[39m          -\u001b[31m341\u001b[39m\n",
      "\u001b[90m2\u001b[39m     2     \u001b[4m1\u001b[24m203      744                  \u001b[4m1\u001b[24m947          -\u001b[31m0\u001b[39m\u001b[31m.\u001b[39m\u001b[31m236\u001b[39m          -\u001b[31m459\u001b[39m\n",
      "\u001b[90m3\u001b[39m     3      900      674                  \u001b[4m1\u001b[24m574          -\u001b[31m0\u001b[39m\u001b[31m.\u001b[39m\u001b[31m144\u001b[39m          -\u001b[31m226\u001b[39m\n",
      "\u001b[90m# A tibble: 3 × 6\u001b[39m\n",
      "  topic negative positive total_sentiment_words sentiment_score net_sentiment\n",
      "  \u001b[3m\u001b[90m<int>\u001b[39m\u001b[23m    \u001b[3m\u001b[90m<int>\u001b[39m\u001b[23m    \u001b[3m\u001b[90m<int>\u001b[39m\u001b[23m                 \u001b[3m\u001b[90m<int>\u001b[39m\u001b[23m           \u001b[3m\u001b[90m<dbl>\u001b[39m\u001b[23m         \u001b[3m\u001b[90m<int>\u001b[39m\u001b[23m\n",
      "\u001b[90m1\u001b[39m     1     \u001b[4m1\u001b[24m111      770                  \u001b[4m1\u001b[24m881          -\u001b[31m0\u001b[39m\u001b[31m.\u001b[39m\u001b[31m181\u001b[39m          -\u001b[31m341\u001b[39m\n",
      "\u001b[90m2\u001b[39m     2     \u001b[4m1\u001b[24m203      744                  \u001b[4m1\u001b[24m947          -\u001b[31m0\u001b[39m\u001b[31m.\u001b[39m\u001b[31m236\u001b[39m          -\u001b[31m459\u001b[39m\n",
      "\u001b[90m3\u001b[39m     3      900      674                  \u001b[4m1\u001b[24m574          -\u001b[31m0\u001b[39m\u001b[31m.\u001b[39m\u001b[31m144\u001b[39m          -\u001b[31m226\u001b[39m\n",
      "[1] \"AFINN sentiment scores by topic:\"\n",
      "\u001b[90m# A tibble: 3 × 4\u001b[39m\n",
      "  topic mean_sentiment median_sentiment total_words\n",
      "  \u001b[3m\u001b[90m<int>\u001b[39m\u001b[23m          \u001b[3m\u001b[90m<dbl>\u001b[39m\u001b[23m            \u001b[3m\u001b[90m<dbl>\u001b[39m\u001b[23m       \u001b[3m\u001b[90m<int>\u001b[39m\u001b[23m\n",
      "\u001b[90m1\u001b[39m     1         -\u001b[31m0\u001b[39m\u001b[31m.\u001b[39m\u001b[31m273\u001b[39m               -\u001b[31m1\u001b[39m        \u001b[4m1\u001b[24m705\n",
      "\u001b[90m2\u001b[39m     2         -\u001b[31m0\u001b[39m\u001b[31m.\u001b[39m\u001b[31m251\u001b[39m               -\u001b[31m1\u001b[39m        \u001b[4m1\u001b[24m885\n",
      "\u001b[90m3\u001b[39m     3         -\u001b[31m0\u001b[39m\u001b[31m.\u001b[39m\u001b[31m108\u001b[39m                1        \u001b[4m1\u001b[24m376\n",
      "[1] \"AFINN sentiment scores by topic:\"\n",
      "\u001b[90m# A tibble: 3 × 4\u001b[39m\n",
      "  topic mean_sentiment median_sentiment total_words\n",
      "  \u001b[3m\u001b[90m<int>\u001b[39m\u001b[23m          \u001b[3m\u001b[90m<dbl>\u001b[39m\u001b[23m            \u001b[3m\u001b[90m<dbl>\u001b[39m\u001b[23m       \u001b[3m\u001b[90m<int>\u001b[39m\u001b[23m\n",
      "\u001b[90m1\u001b[39m     1         -\u001b[31m0\u001b[39m\u001b[31m.\u001b[39m\u001b[31m273\u001b[39m               -\u001b[31m1\u001b[39m        \u001b[4m1\u001b[24m705\n",
      "\u001b[90m2\u001b[39m     2         -\u001b[31m0\u001b[39m\u001b[31m.\u001b[39m\u001b[31m251\u001b[39m               -\u001b[31m1\u001b[39m        \u001b[4m1\u001b[24m885\n",
      "\u001b[90m3\u001b[39m     3         -\u001b[31m0\u001b[39m\u001b[31m.\u001b[39m\u001b[31m108\u001b[39m                1        \u001b[4m1\u001b[24m376\n",
      "[1] \"Traditional sentiment summary by topic:\"\n",
      "\u001b[90m# A tibble: 3 × 11\u001b[39m\n",
      "  topic negative positive total_sentiment_words sentiment_score net_sentiment\n",
      "  \u001b[3m\u001b[90m<int>\u001b[39m\u001b[23m    \u001b[3m\u001b[90m<int>\u001b[39m\u001b[23m    \u001b[3m\u001b[90m<int>\u001b[39m\u001b[23m                 \u001b[3m\u001b[90m<int>\u001b[39m\u001b[23m           \u001b[3m\u001b[90m<dbl>\u001b[39m\u001b[23m         \u001b[3m\u001b[90m<int>\u001b[39m\u001b[23m\n",
      "\u001b[90m1\u001b[39m     1     \u001b[4m1\u001b[24m111      770                  \u001b[4m1\u001b[24m881          -\u001b[31m0\u001b[39m\u001b[31m.\u001b[39m\u001b[31m181\u001b[39m          -\u001b[31m341\u001b[39m\n",
      "\u001b[90m2\u001b[39m     2     \u001b[4m1\u001b[24m203      744                  \u001b[4m1\u001b[24m947          -\u001b[31m0\u001b[39m\u001b[31m.\u001b[39m\u001b[31m236\u001b[39m          -\u001b[31m459\u001b[39m\n",
      "\u001b[90m3\u001b[39m     3      900      674                  \u001b[4m1\u001b[24m574          -\u001b[31m0\u001b[39m\u001b[31m.\u001b[39m\u001b[31m144\u001b[39m          -\u001b[31m226\u001b[39m\n",
      "\u001b[90m# ℹ 5 more variables: mean_sentiment <dbl>, median_sentiment <dbl>,\u001b[39m\n",
      "\u001b[90m#   total_words <int>, n <int>, percentage <dbl>\u001b[39m\n",
      "[1] \"Traditional sentiment summary by topic:\"\n",
      "\u001b[90m# A tibble: 3 × 11\u001b[39m\n",
      "  topic negative positive total_sentiment_words sentiment_score net_sentiment\n",
      "  \u001b[3m\u001b[90m<int>\u001b[39m\u001b[23m    \u001b[3m\u001b[90m<int>\u001b[39m\u001b[23m    \u001b[3m\u001b[90m<int>\u001b[39m\u001b[23m                 \u001b[3m\u001b[90m<int>\u001b[39m\u001b[23m           \u001b[3m\u001b[90m<dbl>\u001b[39m\u001b[23m         \u001b[3m\u001b[90m<int>\u001b[39m\u001b[23m\n",
      "\u001b[90m1\u001b[39m     1     \u001b[4m1\u001b[24m111      770                  \u001b[4m1\u001b[24m881          -\u001b[31m0\u001b[39m\u001b[31m.\u001b[39m\u001b[31m181\u001b[39m          -\u001b[31m341\u001b[39m\n",
      "\u001b[90m2\u001b[39m     2     \u001b[4m1\u001b[24m203      744                  \u001b[4m1\u001b[24m947          -\u001b[31m0\u001b[39m\u001b[31m.\u001b[39m\u001b[31m236\u001b[39m          -\u001b[31m459\u001b[39m\n",
      "\u001b[90m3\u001b[39m     3      900      674                  \u001b[4m1\u001b[24m574          -\u001b[31m0\u001b[39m\u001b[31m.\u001b[39m\u001b[31m144\u001b[39m          -\u001b[31m226\u001b[39m\n",
      "\u001b[90m# ℹ 5 more variables: mean_sentiment <dbl>, median_sentiment <dbl>,\u001b[39m\n",
      "\u001b[90m#   total_words <int>, n <int>, percentage <dbl>\u001b[39m\n"
     ]
    }
   ],
   "source": [
    "# Sentiment analysis using Bing lexicon\n",
    "sentiment_by_topic <- tidy_documents_with_topics %>%\n",
    "  filter(!is.na(topic)) %>%\n",
    "  inner_join(bing_sentiments, by = \"word\") %>%\n",
    "  count(topic, sentiment) %>%\n",
    "  pivot_wider(names_from = sentiment, values_from = n, values_fill = 0) %>%\n",
    "  mutate(\n",
    "    total_sentiment_words = positive + negative,\n",
    "    sentiment_score = (positive - negative) / total_sentiment_words,\n",
    "    net_sentiment = positive - negative\n",
    "  )\n",
    "\n",
    "print(\"Sentiment analysis by topic (Bing lexicon):\")\n",
    "print(sentiment_by_topic)\n",
    "\n",
    "# AFINN sentiment scores\n",
    "afinn_by_topic <- tidy_documents_with_topics %>%\n",
    "  filter(!is.na(topic)) %>%\n",
    "  inner_join(afinn_sentiments, by = \"word\") %>%\n",
    "  group_by(topic) %>%\n",
    "  summarise(\n",
    "    mean_sentiment = mean(value),\n",
    "    median_sentiment = median(value),\n",
    "    total_words = n(),\n",
    "    .groups = \"drop\"\n",
    "  )\n",
    "\n",
    "print(\"AFINN sentiment scores by topic:\")\n",
    "print(afinn_by_topic)\n",
    "\n",
    "# Combine traditional sentiment results\n",
    "sentiment_summary <- sentiment_by_topic %>%\n",
    "  left_join(afinn_by_topic, by = \"topic\") %>%\n",
    "  left_join(documents_per_topic, by = \"topic\")\n",
    "\n",
    "print(\"Traditional sentiment summary by topic:\")\n",
    "print(sentiment_summary)"
   ]
  },
  {
   "cell_type": "code",
   "execution_count": 23,
   "id": "3b3113e7",
   "metadata": {
    "vscode": {
     "languageId": "r"
    }
   },
   "outputs": [
    {
     "data": {
      "image/png": "[encoded data removed]",
      "text/plain": [
       "plot without title"
      ]
     },
     "metadata": {
      "image/png": {
       "height": 420,
       "width": 420
      }
     },
     "output_type": "display_data"
    },
    {
     "data": {
      "image/png": "[encoded data removed]",
      "text/plain": [
       "plot without title"
      ]
     },
     "metadata": {
      "image/png": {
       "height": 420,
       "width": 420
      }
     },
     "output_type": "display_data"
    }
   ],
   "source": [
    "# Visualize sentiment by topic using Bing lexicon\n",
    "ggplot(sentiment_by_topic, aes(x = factor(topic))) +\n",
    "  geom_col(aes(y = positive), fill = \"green\", alpha = 0.6, position = \"identity\") +\n",
    "  geom_col(aes(y = -negative), fill = \"red\", alpha = 0.6, position = \"identity\") +\n",
    "  geom_hline(yintercept = 0, color = \"black\", linetype = \"solid\") +\n",
    "  labs(title = \"Traditional Sentiment Analysis by Topic (Bing Lexicon)\",\n",
    "       subtitle = \"Green = Positive words, Red = Negative words\",\n",
    "       x = \"Topic\",\n",
    "       y = \"Number of Sentiment Words\") +\n",
    "  theme_minimal() +\n",
    "  theme(plot.title = element_text(size = 14, face = \"bold\"))\n",
    "\n",
    "# Net sentiment plot\n",
    "ggplot(sentiment_by_topic, aes(x = factor(topic), y = sentiment_score)) +\n",
    "  geom_col(aes(fill = sentiment_score > 0), alpha = 0.7) +\n",
    "  scale_fill_manual(values = c(\"red\", \"green\"), \n",
    "                    labels = c(\"Negative\", \"Positive\"),\n",
    "                    name = \"Overall Sentiment\") +\n",
    "  geom_hline(yintercept = 0, color = \"black\", linetype = \"dashed\") +\n",
    "  labs(title = \"Net Sentiment Score by Topic\",\n",
    "       subtitle = \"Based on (Positive - Negative) / Total sentiment words\",\n",
    "       x = \"Topic\",\n",
    "       y = \"Sentiment Score\") +\n",
    "  theme_minimal() +\n",
    "  theme(plot.title = element_text(size = 14, face = \"bold\"))"
   ]
  },
  {
   "cell_type": "markdown",
   "id": "2cd0a2fd",
   "metadata": {},
   "source": [
    "### VADER Sentiment Analysis\n",
    "\n",
    "VADER (Valence Aware Dictionary and sEntiment Reasoner) is a more sophisticated sentiment analysis tool that considers context, negations, and intensifiers."
   ]
  },
  {
   "cell_type": "code",
   "execution_count": 24,
   "id": "d2d08ea3",
   "metadata": {
    "vscode": {
     "languageId": "r"
    }
   },
   "outputs": [
    {
     "name": "stdout",
     "output_type": "stream",
     "text": [
      "[1] \"Prepared 1981 documents for VADER analysis\"\n"
     ]
    }
   ],
   "source": [
    "# Install and load tidyvader package\n",
    "if (!requireNamespace(\"tidyvader\", quietly = TRUE)) {\n",
    "  cat(\"Package tidyvader not found. Installing from GitHub...\\n\")\n",
    "  if (!requireNamespace(\"devtools\", quietly = TRUE)) {\n",
    "    install.packages(\"devtools\")\n",
    "  }\n",
    "  devtools::install_github(\"chris31415926535/tidyvader\")\n",
    "}\n",
    "\n",
    "library(tidyvader)\n",
    "\n",
    "# Prepare documents for VADER analysis\n",
    "documents_for_vader <- all_documents %>%\n",
    "  left_join(doc_topic_assignments, by = c(\"document_id\" = \"document\")) %>%\n",
    "  filter(!is.na(topic)) %>% \n",
    "  mutate(\n",
    "    text = as.character(text), \n",
    "    clean_text = str_squish(text) \n",
    "  ) %>%\n",
    "  filter(nchar(clean_text) > 0) %>% \n",
    "  select(document_id, topic, clean_text)\n",
    "\n",
    "print(paste(\"Prepared\", nrow(documents_for_vader), \"documents for VADER analysis\"))"
   ]
  },
  {
   "cell_type": "code",
   "execution_count": 25,
   "id": "740d2211",
   "metadata": {
    "vscode": {
     "languageId": "r"
    }
   },
   "outputs": [
    {
     "name": "stdout",
     "output_type": "stream",
     "text": [
      "[1] \"Running VADER sentiment analysis...\"\n",
      "[1] \"VADER analysis successful. Processed 1981 documents.\"\n"
     ]
    }
   ],
   "source": [
    "# Perform VADER sentiment analysis\n",
    "vader_results <- NULL\n",
    "\n",
    "if (nrow(documents_for_vader) > 0) {\n",
    "  print(\"Running VADER sentiment analysis...\")\n",
    "  \n",
    "  tryCatch({\n",
    "    # Apply VADER to the documents\n",
    "    vader_augmented_df <- tidyvader::vader(documents_for_vader, clean_text)\n",
    "\n",
    "    if (!is.null(vader_augmented_df) && nrow(vader_augmented_df) > 0) {\n",
    "      # Extract VADER results\n",
    "      vader_results <- vader_augmented_df %>%\n",
    "        select(document_id, topic, compound, pos, neu, neg) %>% \n",
    "        mutate(\n",
    "          compound = as.numeric(compound),\n",
    "          pos = as.numeric(pos),\n",
    "          neu = as.numeric(neu),\n",
    "          neg = as.numeric(neg)\n",
    "        )\n",
    "      \n",
    "      print(paste(\"VADER analysis successful. Processed\", nrow(vader_results), \"documents.\"))\n",
    "    } else {\n",
    "      print(\"VADER analysis returned no results.\")\n",
    "    }\n",
    "    \n",
    "  }, error = function(e) {\n",
    "    cat(\"Error during VADER analysis:\", e$message, \"\\n\")\n",
    "    cat(\"Continuing with traditional sentiment analysis only.\\n\")\n",
    "  })\n",
    "} else {\n",
    "  print(\"No documents available for VADER analysis.\")\n",
    "}"
   ]
  },
  {
   "cell_type": "code",
   "execution_count": 26,
   "id": "d31e792c",
   "metadata": {
    "vscode": {
     "languageId": "r"
    }
   },
   "outputs": [
    {
     "name": "stdout",
     "output_type": "stream",
     "text": [
      "[1] \"VADER sentiment scores by topic:\"\n",
      "\u001b[90m# A tibble: 3 × 17\u001b[39m\n",
      "  topic mean_compound median_compound mean_positive mean_neutral mean_negative\n",
      "  \u001b[3m\u001b[90m<int>\u001b[39m\u001b[23m         \u001b[3m\u001b[90m<dbl>\u001b[39m\u001b[23m           \u001b[3m\u001b[90m<dbl>\u001b[39m\u001b[23m         \u001b[3m\u001b[90m<dbl>\u001b[39m\u001b[23m        \u001b[3m\u001b[90m<dbl>\u001b[39m\u001b[23m         \u001b[3m\u001b[90m<dbl>\u001b[39m\u001b[23m\n",
      "\u001b[90m1\u001b[39m     1        0.079\u001b[4m5\u001b[24m          0              0.102        0.816        0.082\u001b[4m1\u001b[24m\n",
      "\u001b[90m2\u001b[39m     2        0.087\u001b[4m9\u001b[24m          0.010\u001b[4m7\u001b[24m         0.114        0.801        0.085\u001b[4m6\u001b[24m\n",
      "\u001b[90m3\u001b[39m     3        0.120           0              0.104        0.821        0.075\u001b[4m1\u001b[24m\n",
      "\u001b[90m# ℹ 11 more variables: very_positive <int>, positive_docs <int>,\u001b[39m\n",
      "\u001b[90m#   neutral_docs <int>, negative_docs <int>, very_negative <int>,\u001b[39m\n",
      "\u001b[90m#   total_docs <int>, pct_very_positive <dbl>, pct_positive <dbl>,\u001b[39m\n",
      "\u001b[90m#   pct_neutral <dbl>, pct_negative <dbl>, pct_very_negative <dbl>\u001b[39m\n"
     ]
    }
   ],
   "source": [
    "# Process VADER results if available\n",
    "if (!is.null(vader_results) && nrow(vader_results) > 0) {\n",
    "  \n",
    "  # Summarize VADER sentiment by topic\n",
    "  vader_by_topic <- vader_results %>%\n",
    "    group_by(topic) %>%\n",
    "    summarise(\n",
    "      mean_compound = mean(compound, na.rm = TRUE),\n",
    "      median_compound = median(compound, na.rm = TRUE),\n",
    "      mean_positive = mean(pos, na.rm = TRUE),\n",
    "      mean_neutral = mean(neu, na.rm = TRUE),\n",
    "      mean_negative = mean(neg, na.rm = TRUE),\n",
    "      # Classify sentiment based on compound score thresholds\n",
    "      very_positive = sum(compound >= 0.5, na.rm = TRUE),\n",
    "      positive_docs = sum(compound >= 0.05 & compound < 0.5, na.rm = TRUE),\n",
    "      neutral_docs = sum(compound > -0.05 & compound < 0.05, na.rm = TRUE),\n",
    "      negative_docs = sum(compound <= -0.05 & compound > -0.5, na.rm = TRUE),\n",
    "      very_negative = sum(compound <= -0.5, na.rm = TRUE),\n",
    "      total_docs = n(),\n",
    "      .groups = \"drop\"\n",
    "    ) %>%\n",
    "    mutate(\n",
    "      pct_very_positive = round(very_positive / total_docs * 100, 1),\n",
    "      pct_positive = round(positive_docs / total_docs * 100, 1),\n",
    "      pct_neutral = round(neutral_docs / total_docs * 100, 1),\n",
    "      pct_negative = round(negative_docs / total_docs * 100, 1),\n",
    "      pct_very_negative = round(very_negative / total_docs * 100, 1)\n",
    "    )\n",
    "\n",
    "  print(\"VADER sentiment scores by topic:\")\n",
    "  print(vader_by_topic)\n",
    "  \n",
    "  # Update sentiment summary to include VADER results\n",
    "  sentiment_summary_with_vader <- sentiment_summary %>%\n",
    "    left_join(vader_by_topic, by = \"topic\")\n",
    "  \n",
    "} else {\n",
    "  cat(\"VADER analysis was not successful. Using traditional sentiment analysis only.\\n\")\n",
    "  sentiment_summary_with_vader <- sentiment_summary\n",
    "}"
   ]
  },
  {
   "cell_type": "code",
   "execution_count": 27,
   "id": "8a1b4f54",
   "metadata": {
    "vscode": {
     "languageId": "r"
    }
   },
   "outputs": [
    {
     "data": {
      "image/png": "[encoded data removed]",
      "text/plain": [
       "plot without title"
      ]
     },
     "metadata": {
      "image/png": {
       "height": 420,
       "width": 420
      }
     },
     "output_type": "display_data"
    },
    {
     "data": {
      "image/png": "[encoded data removed]",
      "text/plain": [
       "plot without title"
      ]
     },
     "metadata": {
      "image/png": {
       "height": 420,
       "width": 420
      }
     },
     "output_type": "display_data"
    }
   ],
   "source": [
    "# VADER sentiment visualizations (if VADER was successful)\n",
    "if (exists(\"vader_by_topic\") && !is.null(vader_by_topic)) {\n",
    "  \n",
    "  # VADER distribution plot\n",
    "  vader_plot_data <- vader_by_topic %>%\n",
    "    select(topic, very_positive, positive_docs, neutral_docs, negative_docs, very_negative) %>%\n",
    "    pivot_longer(cols = -topic, names_to = \"sentiment_category\", values_to = \"count\") %>%\n",
    "    mutate(\n",
    "      sentiment_category = factor(sentiment_category, \n",
    "                                 levels = c(\"very_negative\", \"negative_docs\", \"neutral_docs\", \n",
    "                                          \"positive_docs\", \"very_positive\"),\n",
    "                                 labels = c(\"Very Negative\", \"Negative\", \"Neutral\", \n",
    "                                          \"Positive\", \"Very Positive\"))\n",
    "    )\n",
    "  \n",
    "  # Stacked bar chart for VADER sentiment distribution\n",
    "  print(ggplot(vader_plot_data, aes(x = factor(topic), y = count, fill = sentiment_category)) +\n",
    "    geom_col(position = \"stack\") +\n",
    "    scale_fill_manual(values = c(\"darkred\", \"red\", \"gray\", \"green\", \"darkgreen\")) +\n",
    "    labs(title = \"VADER Sentiment Distribution by Topic\",\n",
    "         subtitle = \"Based on compound sentiment scores\",\n",
    "         x = \"Topic\",\n",
    "         y = \"Number of Documents\",\n",
    "         fill = \"Sentiment Category\") +\n",
    "    theme_minimal() +\n",
    "    theme(legend.position = \"bottom\",\n",
    "          plot.title = element_text(size = 14, face = \"bold\")))\n",
    "  \n",
    "  # VADER compound score by topic\n",
    "  print(ggplot(vader_by_topic, aes(x = factor(topic), y = mean_compound)) +\n",
    "    geom_col(aes(fill = mean_compound > 0), alpha = 0.7) +\n",
    "    scale_fill_manual(values = c(\"red\", \"green\"), \n",
    "                      labels = c(\"Negative\", \"Positive\"),\n",
    "                      name = \"Overall Sentiment\") +\n",
    "    geom_hline(yintercept = 0, color = \"black\", linetype = \"dashed\") +\n",
    "    geom_text(aes(label = round(mean_compound, 3)), vjust = -0.5, size = 3) +\n",
    "    labs(title = \"VADER Mean Compound Sentiment Score by Topic\",\n",
    "         subtitle = \"Range: -1 (most negative) to +1 (most positive)\",\n",
    "         x = \"Topic\",\n",
    "         y = \"Mean Compound Score\") +\n",
    "    theme_minimal() +\n",
    "    theme(plot.title = element_text(size = 14, face = \"bold\")))\n",
    "}"
   ]
  },
  {
   "cell_type": "code",
   "execution_count": 28,
   "id": "d524fb9d",
   "metadata": {
    "vscode": {
     "languageId": "r"
    }
   },
   "outputs": [
    {
     "ename": "ERROR",
     "evalue": "Error in UseMethod(\"pivot_longer\"): no applicable method for 'pivot_longer' applied to an object of class \"c('fseq', 'function')\"\n",
     "output_type": "error",
     "traceback": [
      "Error in UseMethod(\"pivot_longer\"): no applicable method for 'pivot_longer' applied to an object of class \"c('fseq', 'function')\"\nTraceback:\n",
      "1. filter(., !is.na(score))",
      "2. mutate(., method = factor(method, levels = c(\"bing_score\", \"afinn_score\", \n .     \"vader_score\"), labels = c(\"Bing Lexicon\", \"AFINN Lexicon\", \n .     \"VADER\")))",
      "3. pivot_longer(., cols = -topic, names_to = \"method\", values_to = \"score\")",
      "4. .handleSimpleError(function (cnd) \n . {\n .     watcher$capture_plot_and_output()\n .     cnd <- sanitize_call(cnd)\n .     watcher$push(cnd)\n .     switch(on_error, continue = invokeRestart(\"eval_continue\"), \n .         stop = invokeRestart(\"eval_stop\"), error = NULL)\n . }, \"no applicable method for 'pivot_longer' applied to an object of class \\\"c('fseq', 'function')\\\"\", \n .     base::quote(UseMethod(\"pivot_longer\")))"
     ]
    }
   ],
   "source": [
    "# Compare all sentiment methods\n",
    "if (exists(\"sentiment_summary_with_vader\")) {\n",
    "  \n",
    "  # Create comparison plot of all sentiment methods\n",
    "  comparison_data <- sentiment_summary_with_vader %>%\n",
    "    select(topic, \n",
    "           bing_score = sentiment_score,\n",
    "           afinn_score = mean_sentiment) %>%\n",
    "    # Add VADER score if available\n",
    "    {if (\"mean_compound\" %in% names(sentiment_summary_with_vader)) {\n",
    "       . %>% mutate(vader_score = sentiment_summary_with_vader$mean_compound)\n",
    "     } else {\n",
    "       .\n",
    "     }} %>%\n",
    "    pivot_longer(cols = -topic, names_to = \"method\", values_to = \"score\") %>%\n",
    "    mutate(\n",
    "      method = factor(method, \n",
    "                     levels = c(\"bing_score\", \"afinn_score\", \"vader_score\"),\n",
    "                     labels = c(\"Bing Lexicon\", \"AFINN Lexicon\", \"VADER\"))\n",
    "    ) %>%\n",
    "    filter(!is.na(score))\n",
    "  \n",
    "  # Create comparison plot\n",
    "  ggplot(comparison_data, aes(x = factor(topic), y = score, fill = method)) +\n",
    "    geom_col(position = \"dodge\", alpha = 0.8) +\n",
    "    geom_hline(yintercept = 0, color = \"black\", linetype = \"dashed\") +\n",
    "    scale_fill_brewer(type = \"qual\", palette = \"Set2\") +\n",
    "    labs(title = \"Sentiment Analysis Methods Comparison by Topic\",\n",
    "         subtitle = \"Comparing different sentiment analysis approaches\",\n",
    "         x = \"Topic\",\n",
    "         y = \"Sentiment Score\",\n",
    "         fill = \"Method\",\n",
    "         caption = \"Note: Different scales - Bing: [-1,1], AFINN: typically [-5,5], VADER: [-1,1]\") +\n",
    "    theme_minimal() +\n",
    "    theme(legend.position = \"bottom\",\n",
    "          plot.title = element_text(size = 14, face = \"bold\"))\n",
    "}"
   ]
  },
  {
   "cell_type": "markdown",
   "id": "2f5d6c53",
   "metadata": {},
   "source": [
    "## Named Entity Recognition (NER) by Topic\n",
    "\n",
    "Named Entity Recognition allows us to identify and extract key entities (organizations, people, places, etc.) mentioned in each topic. This helps us understand what specific entities are being discussed in different thematic areas of r/Futurology.\n",
    "\n",
    "We'll use spaCy through the spacyr package to perform NER analysis and then analyze the distribution of entities across topics."
   ]
  },
  {
   "cell_type": "code",
   "execution_count": null,
   "id": "db082099",
   "metadata": {
    "vscode": {
     "languageId": "r"
    }
   },
   "outputs": [],
   "source": [
    "print(\"Starting Named Entity Recognition (NER) by Topic...\")\n",
    "\n",
    "# Install and load spacyr if not available\n",
    "if (!requireNamespace(\"spacyr\", quietly = TRUE)) {\n",
    "  cat(\"Package spacyr not found. Installing...\\n\")\n",
    "  install.packages(\"spacyr\")\n",
    "  cat(\"Please ensure Python, spaCy, and a spaCy language model (e.g., en_core_web_sm) are installed.\\n\")\n",
    "  cat(\"You might need to run 'spacyr::spacy_install()' in your R console.\\n\")\n",
    "}\n",
    "\n",
    "library(spacyr)\n",
    "\n",
    "# Check if spaCy is already initialized\n",
    "spacy_initialized_successfully <- FALSE\n",
    "\n",
    "cat(\"Attempting to initialize spaCy...\\n\")\n",
    "tryCatch({\n",
    "  # Try to initialize with the model\n",
    "  spacy_initialize(model = \"en_core_web_sm\", ask = FALSE)\n",
    "  spacy_initialized_successfully <- TRUE\n",
    "  cat(\"spaCy initialized successfully.\\n\")\n",
    "}, error = function(e) {\n",
    "  cat(\"spaCy initialization failed:\", e$message, \"\\n\")\n",
    "  cat(\"Please ensure spaCy and the English model are installed:\\n\")\n",
    "  cat(\"spacyr::spacy_install(ask = FALSE)\\n\")\n",
    "  cat(\"spacyr::spacy_download_langmodel('en_core_web_sm')\\n\")\n",
    "  spacy_initialized_successfully <- FALSE\n",
    "})\n",
    "\n",
    "print(paste(\"spaCy initialization status:\", ifelse(spacy_initialized_successfully, \"SUCCESS\", \"FAILED\")))"
   ]
  },
  {
   "cell_type": "code",
   "execution_count": null,
   "id": "d0c139d4",
   "metadata": {
    "vscode": {
     "languageId": "r"
    }
   },
   "outputs": [],
   "source": [
    "# Test spaCy functionality if initialized successfully\n",
    "if (spacy_initialized_successfully) {\n",
    "  cat(\"Testing spaCy functionality...\\n\")\n",
    "  test_success <- tryCatch({\n",
    "    test_df <- data.frame(doc_id = \"test1\", text = \"Apple Inc. is located in California.\", stringsAsFactors = FALSE)\n",
    "    test_result <- spacy_parse(test_df, entity = TRUE, lemma = FALSE, pos = FALSE)\n",
    "    \n",
    "    if (!is.null(test_result) && nrow(test_result) > 0) {\n",
    "      cat(\"spaCy test successful. Found\", nrow(test_result), \"tokens.\\n\")\n",
    "      TRUE\n",
    "    } else {\n",
    "      cat(\"spaCy test returned no results.\\n\")\n",
    "      FALSE\n",
    "    }\n",
    "  }, error = function(e) {\n",
    "    cat(\"spaCy test failed:\", e$message, \"\\n\")\n",
    "    FALSE\n",
    "  })\n",
    "  \n",
    "  if (!test_success) {\n",
    "    cat(\"spaCy functionality test failed. Skipping NER analysis.\\n\")\n",
    "    spacy_initialized_successfully <- FALSE\n",
    "  } else {\n",
    "    cat(\"spaCy functionality test passed. Proceeding with NER analysis.\\n\")\n",
    "  }\n",
    "}"
   ]
  },
  {
   "cell_type": "code",
   "execution_count": null,
   "id": "4c63aaa0",
   "metadata": {
    "vscode": {
     "languageId": "r"
    }
   },
   "outputs": [],
   "source": [
    "# Perform NER analysis if spaCy is working\n",
    "if (spacy_initialized_successfully) {\n",
    "  # Prepare data for NER\n",
    "  if (!exists(\"doc_topic_assignments\") || !exists(\"all_documents\")) {\n",
    "    cat(\"Error: Required data not found. Cannot proceed with NER.\\n\")\n",
    "  } else {\n",
    "    documents_for_ner <- all_documents %>%\n",
    "      left_join(doc_topic_assignments, by = c(\"document_id\" = \"document\")) %>%\n",
    "      filter(!is.na(topic) & !is.na(text) & text != \"\") %>%\n",
    "      select(doc_id = document_id, text, topic)\n",
    "\n",
    "    if (nrow(documents_for_ner) == 0) {\n",
    "      cat(\"No documents available for NER after filtering.\\n\")\n",
    "    } else {\n",
    "      cat(paste(\"Performing NER on\", nrow(documents_for_ner), \"documents...\\n\"))\n",
    "      \n",
    "      # Ensure text is character type and clean it\n",
    "      documents_for_ner$text <- as.character(documents_for_ner$text)\n",
    "      \n",
    "      # Perform NER parsing\n",
    "      parsed_entities <- tryCatch({\n",
    "        spacy_parse(documents_for_ner, entity = TRUE, lemma = FALSE, pos = FALSE)\n",
    "      }, error = function(e) {\n",
    "        cat(\"Error during spacy_parse:\", e$message, \"\\n\")\n",
    "        return(NULL)\n",
    "      })\n",
    "      \n",
    "      if (!is.null(parsed_entities) && nrow(parsed_entities) > 0) {\n",
    "        cat(\"NER parsing successful. Found\", nrow(parsed_entities), \"tokens.\\n\")\n",
    "        \n",
    "        # Create a list of words to exclude (common words, articles, etc.)\n",
    "        excluded_words <- c(\"the\", \"a\", \"an\", \"and\", \"or\", \"but\", \"in\", \"on\", \"at\", \"to\", \"for\", \n",
    "                           \"of\", \"with\", \"by\", \"from\", \"as\", \"is\", \"was\", \"are\", \"were\", \"be\", \n",
    "                           \"been\", \"being\", \"have\", \"has\", \"had\", \"do\", \"does\", \"did\", \"will\", \n",
    "                           \"would\", \"could\", \"should\", \"may\", \"might\", \"can\", \"must\", \"shall\",\n",
    "                           \"this\", \"that\", \"these\", \"those\", \"i\", \"you\", \"he\", \"she\", \"it\", \n",
    "                           \"we\", \"they\", \"me\", \"him\", \"her\", \"us\", \"them\", \"my\", \"your\", \n",
    "                           \"his\", \"her\", \"its\", \"our\", \"their\", \"myself\", \"yourself\", \"himself\",\n",
    "                           \"herself\", \"itself\", \"ourselves\", \"yourselves\", \"themselves\")\n",
    "        \n",
    "        # Filter for actual entities and clean them\n",
    "        entities_by_doc <- parsed_entities %>%\n",
    "          filter(entity != \"\") %>%\n",
    "          select(doc_id, entity_text = token, entity_type = entity) %>%\n",
    "          filter(\n",
    "            !tolower(entity_text) %in% excluded_words,\n",
    "            nchar(entity_text) >= 2,\n",
    "            !grepl(\"^[0-9]+$\", entity_text),\n",
    "            !grepl(\"^[[:punct:]]+$\", entity_text),\n",
    "            !entity_text %in% c(\"%\", \"$\", \"€\", \"£\"),\n",
    "            entity_type %in% c(\"PERSON\", \"ORG\", \"GPE\", \"LOC\", \"EVENT\", \"FAC\", \"PRODUCT\", \n",
    "                              \"WORK_OF_ART\", \"LAW\", \"LANGUAGE\", \"NORP\", \"MONEY\", \"PERCENT\",\n",
    "                              \"ORG_B\", \"ORG_I\", \"GPE_B\", \"GPE_I\", \"PERSON_B\", \"PERSON_I\",\n",
    "                              \"LOC_B\", \"LOC_I\", \"PRODUCT_B\", \"PRODUCT_I\", \"EVENT_B\", \"EVENT_I\")\n",
    "          )\n",
    "        \n",
    "        # Join with topic information\n",
    "        entities_with_topics <- entities_by_doc %>%\n",
    "          left_join(distinct(documents_for_ner, doc_id, topic), by = \"doc_id\") %>%\n",
    "          filter(!is.na(topic))\n",
    "        \n",
    "        cat(\"Found\", nrow(entities_with_topics), \"entities across all topics.\\n\")\n",
    "        \n",
    "      } else {\n",
    "        cat(\"NER parsing did not return entities or failed.\\n\")\n",
    "        entities_with_topics <- NULL\n",
    "      }\n",
    "    }\n",
    "  } else {\n",
    "    cat(\"Skipping NER analysis because spaCy was not initialized successfully.\\n\")\n",
    "    entities_with_topics <- NULL\n",
    "  }\n",
    "}"
   ]
  },
  {
   "cell_type": "code",
   "execution_count": null,
   "id": "9feea928",
   "metadata": {
    "vscode": {
     "languageId": "r"
    }
   },
   "outputs": [],
   "source": [
    "# Calculate dominant entities per topic\n",
    "if (exists(\"entities_with_topics\") && !is.null(entities_with_topics) && nrow(entities_with_topics) > 0) {\n",
    "  \n",
    "  # Calculate entity frequency across all topics to identify potential noise\n",
    "  entity_global_freq <- entities_with_topics %>%\n",
    "    count(entity_text, sort = TRUE) %>%\n",
    "    mutate(is_likely_noise = n > (nrow(entities_with_topics) * 0.1)) # Appears in >10% of docs\n",
    "  \n",
    "  # Most frequent entities per topic (dominant entities)\n",
    "  dominant_entities_per_topic <- entities_with_topics %>%\n",
    "    left_join(entity_global_freq, by = \"entity_text\") %>%\n",
    "    filter(!is_likely_noise) %>%\n",
    "    count(topic, entity_text, entity_type, sort = TRUE) %>%\n",
    "    group_by(topic) %>%\n",
    "    slice_head(n = 15) %>%\n",
    "    ungroup() %>%\n",
    "    filter(\n",
    "      n >= 2,\n",
    "      nchar(entity_text) >= 3 | entity_type %in% c(\"ORG\", \"GPE\", \"PERSON\"),\n",
    "      !grepl(\"^[a-z]$\", entity_text)\n",
    "    ) %>%\n",
    "    group_by(topic) %>%\n",
    "    slice_head(n = 10) %>%\n",
    "    ungroup()\n",
    "  \n",
    "  print(\"Dominant (most frequent) entities per topic:\")\n",
    "  print(dominant_entities_per_topic)\n",
    "  \n",
    "  write.csv(dominant_entities_per_topic, file.path(\"output\", \"ner_dominant_entities_per_topic.csv\"), row.names = FALSE)\n",
    "  \n",
    "} else {\n",
    "  cat(\"No entities available for analysis.\\n\")\n",
    "  dominant_entities_per_topic <- NULL\n",
    "}"
   ]
  },
  {
   "cell_type": "code",
   "execution_count": null,
   "id": "820c91c2",
   "metadata": {
    "vscode": {
     "languageId": "r"
    }
   },
   "outputs": [],
   "source": [
    "# Analyze entity type distribution across topics\n",
    "if (exists(\"entities_with_topics\") && !is.null(entities_with_topics) && nrow(entities_with_topics) > 0) {\n",
    "  \n",
    "  # Entity type distribution\n",
    "  entity_type_distribution <- entities_with_topics %>%\n",
    "    count(topic, entity_type, sort = TRUE) %>%\n",
    "    group_by(topic) %>%\n",
    "    mutate(percentage = n / sum(n) * 100) %>%\n",
    "    ungroup()\n",
    "  \n",
    "  print(\"Entity type distribution across topics:\")\n",
    "  print(entity_type_distribution)\n",
    "  \n",
    "  write.csv(entity_type_distribution, file.path(\"output\", \"ner_entity_type_distribution_per_topic.csv\"), row.names = FALSE)\n",
    "  \n",
    "  # Summary by topic with top entity types\n",
    "  ner_summary_by_topic <- entity_type_distribution %>%\n",
    "    group_by(topic) %>%\n",
    "    slice_max(n, n = 3) %>%\n",
    "    summarise(\n",
    "      top_entity_types = paste(entity_type, collapse = \", \"),\n",
    "      total_entities = sum(n),\n",
    "      .groups = \"drop\"\n",
    "    )\n",
    "  \n",
    "  print(\"NER Summary by Topic:\")\n",
    "  print(ner_summary_by_topic)\n",
    "  \n",
    "  write.csv(ner_summary_by_topic, file.path(\"output\", \"ner_summary_by_topic.csv\"), row.names = FALSE)\n",
    "  \n",
    "  cat(\"NER analysis complete. Results saved to 'output' directory.\\n\")\n",
    "  \n",
    "} else {\n",
    "  cat(\"No entities available for type analysis.\\n\")\n",
    "  entity_type_distribution <- NULL\n",
    "  ner_summary_by_topic <- NULL\n",
    "}"
   ]
  },
  {
   "cell_type": "markdown",
   "id": "f2828b8b",
   "metadata": {},
   "source": [
    "### NER Visualizations\n",
    "\n",
    "Let's create visualizations to better understand the entity patterns across topics."
   ]
  },
  {
   "cell_type": "code",
   "execution_count": null,
   "id": "683cad40",
   "metadata": {
    "vscode": {
     "languageId": "r"
    }
   },
   "outputs": [],
   "source": [
    "# Visualization 1: Top Organizations by Topic\n",
    "if (exists(\"dominant_entities_per_topic\") && !is.null(dominant_entities_per_topic) && nrow(dominant_entities_per_topic) > 0) {\n",
    "  \n",
    "  # Filter for organization entities\n",
    "  org_entities <- dominant_entities_per_topic %>% \n",
    "    filter(entity_type %in% c(\"ORG\", \"ORG_B\", \"ORG_I\"))\n",
    "  \n",
    "  if (nrow(org_entities) > 0) {\n",
    "    library(tidytext) # for reorder_within\n",
    "    \n",
    "    plot_top_orgs <- org_entities %>%\n",
    "      ggplot(aes(x = reorder_within(entity_text, n, topic), y = n, fill = factor(topic))) +\n",
    "      geom_col(show.legend = FALSE) +\n",
    "      facet_wrap(~ paste(\"Topic\", topic), scales = \"free_y\") +\n",
    "      coord_flip() +\n",
    "      scale_x_reordered() +\n",
    "      labs(title = \"Top Organizations by Topic\",\n",
    "           x = \"Organization\",\n",
    "           y = \"Frequency\") +\n",
    "      theme_minimal()\n",
    "    \n",
    "    ggsave(file.path(\"output\", \"ner_top_organizations_per_topic.png\"), plot_top_orgs, \n",
    "           width = 12, height = 8, dpi = 300)\n",
    "    print(\"Saved plot: output/ner_top_organizations_per_topic.png\")\n",
    "  } else {\n",
    "    cat(\"No organization entities found for visualization.\\n\")\n",
    "  }\n",
    "} else {\n",
    "  cat(\"No dominant entities data available for organization plot.\\n\")\n",
    "}"
   ]
  },
  {
   "cell_type": "code",
   "execution_count": null,
   "id": "091d312f",
   "metadata": {
    "vscode": {
     "languageId": "r"
    }
   },
   "outputs": [],
   "source": [
    "# Visualization 2: Entity Type Distribution Across Topics\n",
    "if (exists(\"entity_type_distribution\") && !is.null(entity_type_distribution) && nrow(entity_type_distribution) > 0) {\n",
    "  \n",
    "  # Visualization of entity type distribution (matching R script)\n",
    "  plot_entity_types <- ggplot(entity_type_distribution, aes(x = factor(topic), y = n, fill = entity_type)) +\n",
    "    geom_col(position = \"fill\") +\n",
    "    scale_y_continuous(labels = scales::percent) +\n",
    "    labs(title = \"Distribution of Entity Types by Topic\",\n",
    "         x = \"Topic\",\n",
    "         y = \"Percentage of Entities\",\n",
    "         fill = \"Entity Type\") +\n",
    "    theme_minimal() +\n",
    "    theme(axis.text.x = element_text(angle = 45, hjust = 1))\n",
    "  \n",
    "  ggsave(file.path(\"output\", \"ner_entity_type_distribution.png\"), plot_entity_types, \n",
    "         width = 12, height = 7, dpi = 300)\n",
    "  print(\"Saved plot: output/ner_entity_type_distribution.png\")\n",
    "  \n",
    "} else {\n",
    "  cat(\"No entity type distribution data available for visualization.\\n\")\n",
    "}"
   ]
  },
  {
   "cell_type": "code",
   "execution_count": null,
   "id": "65e880b8",
   "metadata": {
    "vscode": {
     "languageId": "r"
    }
   },
   "outputs": [],
   "source": [
    "# Analysis of Geographic Entities (GPE - Geopolitical entities)\n",
    "if (exists(\"dominant_entities_per_topic\") && !is.null(dominant_entities_per_topic) && nrow(dominant_entities_per_topic) > 0) {\n",
    "  \n",
    "  # Filter for geographic entities\n",
    "  geo_entities <- dominant_entities_per_topic %>% \n",
    "    filter(entity_type %in% c(\"GPE\", \"GPE_B\", \"GPE_I\", \"LOC\", \"LOC_B\", \"LOC_I\"))\n",
    "  \n",
    "  if (nrow(geo_entities) > 0) {\n",
    "    print(\"Geographic entities by topic:\")\n",
    "    print(geo_entities)\n",
    "    \n",
    "    # Create visualization for geographic entities\n",
    "    plot_geo_entities <- geo_entities %>%\n",
    "      ggplot(aes(x = reorder_within(entity_text, n, topic), y = n, fill = factor(topic))) +\n",
    "      geom_col(show.legend = FALSE) +\n",
    "      facet_wrap(~ paste(\"Topic\", topic), scales = \"free_y\") +\n",
    "      coord_flip() +\n",
    "      scale_x_reordered() +\n",
    "      labs(title = \"Top Geographic Entities by Topic\",\n",
    "           subtitle = \"Most frequently mentioned places and countries\",\n",
    "           x = \"Geographic Entity\",\n",
    "           y = \"Frequency\") +\n",
    "      theme_minimal() +\n",
    "      theme(plot.title = element_text(size = 14, face = \"bold\"))\n",
    "    \n",
    "    ggsave(file.path(\"output\", \"ner_top_geographic_entities_per_topic.png\"), plot_geo_entities, \n",
    "           width = 12, height = 8, dpi = 300)\n",
    "    print(\"Saved plot: output/ner_top_geographic_entities_per_topic.png\")\n",
    "  } else {\n",
    "    cat(\"No geographic entities found for analysis.\\n\")\n",
    "  }\n",
    "} else {\n",
    "  cat(\"No dominant entities data available for geographic analysis.\\n\")\n",
    "}"
   ]
  },
  {
   "cell_type": "markdown",
   "id": "646fa7ab",
   "metadata": {},
   "source": [
    "### NER Analysis Summary\n",
    "\n",
    "The Named Entity Recognition analysis provides insights into the specific entities mentioned across different topics in r/Futurology:\n",
    "\n",
    "#### Key Findings:\n",
    "- **Organizations**: Technology companies and AI-related entities are frequently discussed\n",
    "- **Geographic Distribution**: Certain countries/regions appear more prominently in specific topics\n",
    "- **People**: Key figures in technology and futurology are mentioned in context\n",
    "- **Entity Patterns**: Different topics show distinct entity profiles reflecting their thematic focus\n",
    "\n",
    "#### Entity Type Patterns:\n",
    "- **ORG_B/ORG_I**: Organizations (companies, institutions)\n",
    "- **GPE_B/GPE_I**: Geopolitical entities (countries, cities, states)\n",
    "- **PERSON_B/PERSON_I**: People (individuals mentioned by name)\n",
    "- **LOC_B/LOC_I**: Locations (places, geographic features)\n",
    "\n",
    "The distribution of these entity types across topics reveals the different focuses and concerns within the futurology community."
   ]
  },
  {
   "cell_type": "code",
   "execution_count": null,
   "id": "2c356774",
   "metadata": {
    "vscode": {
     "languageId": "r"
    }
   },
   "outputs": [],
   "source": [
    "# Finalize spaCy (optional cleanup)\n",
    "if (exists(\"spacy_initialized_successfully\") && spacy_initialized_successfully) {\n",
    "  tryCatch({\n",
    "    spacy_finalize()\n",
    "    cat(\"spaCy session finalized.\\n\")\n",
    "  }, error = function(e) {\n",
    "    # Ignore errors during finalization\n",
    "    cat(\"Note: spaCy finalization completed with warnings (this is normal).\\n\")\n",
    "  })\n",
    "}\n",
    "\n",
    "# Print NER analysis completion summary\n",
    "if (exists(\"entities_with_topics\") && !is.null(entities_with_topics)) {\n",
    "  cat(\"NER analysis completed successfully.\\n\")\n",
    "  cat(\"Total entities found:\", nrow(entities_with_topics), \"\\n\")\n",
    "  if (exists(\"ner_summary_by_topic\")) {\n",
    "    cat(\"Topics analyzed:\", nrow(ner_summary_by_topic), \"\\n\")\n",
    "  }\n",
    "} else {\n",
    "  cat(\"NER analysis was skipped or failed.\\n\")\n",
    "}"
   ]
  },
  {
   "cell_type": "markdown",
   "id": "248924cd",
   "metadata": {},
   "source": [
    "## Comprehensive Analysis Insights\n",
    "\n",
    "Based on our comprehensive analysis combining topic modeling, sentiment analysis, and named entity recognition, we can draw several insights about the thematic structure and emotional landscape of r/Futurology discussions:\n",
    "\n",
    "### Topic Interpretation\n",
    "\n",
    "The LDA model has identified distinct thematic clusters within the community discussions. Each topic represents a coherent set of concepts that frequently co-occur in the same documents. The topics reveal the main areas of interest and discussion within the futurology community.\n",
    "\n",
    "### Model Performance\n",
    "\n",
    "- **Perplexity**: Lower values indicate better model fit to the data\n",
    "- **Coherence**: Higher values indicate more interpretable topics with semantically related words\n",
    "- **Combined Score**: Balances both metrics for optimal topic selection\n",
    "\n",
    "### Document Distribution\n",
    "\n",
    "The distribution of documents across topics reveals the relative importance and frequency of different themes within the r/Futurology community, showing which topics generate the most discussion.\n",
    "\n",
    "### Sentiment Patterns\n",
    "\n",
    "- **Multi-method Analysis**: Using Bing, AFINN, and VADER provides a comprehensive view of sentiment\n",
    "- **Topic-specific Sentiment**: Different topics show varying emotional tones, reflecting community attitudes toward different future-oriented themes\n",
    "- **VADER Advantages**: Context-aware analysis that handles negations, intensifiers, and complex linguistic patterns\n",
    "\n",
    "### Named Entity Recognition Insights\n",
    "\n",
    "- **Organizations**: Technology companies and AI-related entities dominate discussions\n",
    "- **Geographic Entities**: Strong focus on specific countries and regions, reflecting geopolitical aspects of future technology\n",
    "- **Entity Distribution**: Varies by topic, with different topics showing distinct entity profiles\n",
    "\n",
    "### Methodological Insights\n",
    "\n",
    "- **Lexicon-based Methods** (Bing, AFINN): Good for understanding general positive/negative orientation\n",
    "- **VADER**: Superior for nuanced sentiment analysis with compound scores that consider linguistic context\n",
    "- **Topic-Sentiment-Entity Integration**: Reveals how community sentiment and entity mentions vary across different futurological themes\n",
    "\n",
    "### Future Applications\n",
    "\n",
    "This combined analysis can be used for:\n",
    "- **Content Strategy**: Understanding which topics resonate positively or negatively with the community\n",
    "- **Trend Analysis**: Tracking sentiment changes over time within specific topics\n",
    "- **Community Insights**: Understanding emotional responses to different future-oriented discussions\n",
    "- **Stakeholder Analysis**: Monitoring mentions of organizations and key figures\n",
    "- **Recommendation Systems**: Suggesting content based on topic, sentiment, and entity preferences\n",
    "- **Research Applications**: Academic studies on public attitudes toward emerging technologies and future scenarios"
   ]
  },
  {
   "cell_type": "markdown",
   "id": "e0b079f4",
   "metadata": {},
   "source": [
    "## Final Summary and Insights\n",
    "\n",
    "Now let's create a comprehensive summary that combines all our topic modeling and sentiment analysis findings, along with key insights and recommendations."
   ]
  },
  {
   "cell_type": "code",
   "execution_count": null,
   "id": "6f65dffe",
   "metadata": {
    "vscode": {
     "languageId": "r"
    }
   },
   "outputs": [],
   "source": [
    "# Create comprehensive summary including sentiment analysis\n",
    "cat(\"\\n\", paste(rep(\"=\", 70), collapse = \"\"), \"\\n\")\n",
    "cat(\"COMPREHENSIVE TOPIC MODELING AND SENTIMENT ANALYSIS SUMMARY\\n\")\n",
    "cat(paste(rep(\"=\", 70), collapse = \"\"), \"\\n\")\n",
    "\n",
    "cat(\"\\n**DATA OVERVIEW:**\\n\")\n",
    "cat(\"- Total documents analyzed:\", nrow(all_documents), \"\\n\")\n",
    "cat(\"- Total tokens after cleaning:\", nrow(tidy_documents), \"\\n\")\n",
    "cat(\"- Submissions:\", sum(all_documents$type == \"submission\"), \"\\n\")\n",
    "cat(\"- Comments:\", sum(all_documents$type == \"comment\"), \"\\n\")\n",
    "\n",
    "cat(\"\\n**TOPIC MODELING RESULTS:**\\n\")\n",
    "cat(\"- Optimal number of topics:\", optimal_k, \"\\n\")\n",
    "cat(\"- Best perplexity score:\", round(perplexity_scores[optimal_k_index], 2), \"\\n\")\n",
    "cat(\"- Best coherence score:\", round(coherence_scores[optimal_k_index], 4), \"\\n\")\n",
    "\n",
    "cat(\"\\n**TOPIC DISTRIBUTION:**\\n\")\n",
    "for (i in 1:nrow(documents_per_topic)) {\n",
    "  top_terms <- topic_terms %>% \n",
    "    filter(topic == documents_per_topic$topic[i]) %>% \n",
    "    slice_head(n = 3) %>% \n",
    "    pull(term)\n",
    "  \n",
    "  cat(\"- Topic\", documents_per_topic$topic[i], \":\", \n",
    "      documents_per_topic$n[i], \"documents (\", \n",
    "      documents_per_topic$percentage[i], \"%); top terms:\", \n",
    "      paste(top_terms, collapse = \", \"), \"\\n\")\n",
    "}\n",
    "\n",
    "cat(\"\\n**SENTIMENT ANALYSIS OVERVIEW:**\\n\")\n",
    "if (exists(\"sentiment_summary_with_vader\") && \"mean_compound\" %in% names(sentiment_summary_with_vader)) {\n",
    "  for (i in 1:nrow(sentiment_summary_with_vader)) {\n",
    "    cat(\"- Topic\", sentiment_summary_with_vader$topic[i], \n",
    "        \": Net sentiment =\", round(sentiment_summary_with_vader$net_sentiment[i], 1),\n",
    "        \", AFINN score =\", round(sentiment_summary_with_vader$mean_sentiment[i], 2),\n",
    "        \", VADER score =\", round(sentiment_summary_with_vader$mean_compound[i], 3), \"\\n\")\n",
    "  }\n",
    "} else if (exists(\"sentiment_summary\")) {\n",
    "  for (i in 1:nrow(sentiment_summary)) {\n",
    "    cat(\"- Topic\", sentiment_summary$topic[i], \n",
    "        \": Net sentiment =\", round(sentiment_summary$net_sentiment[i], 1),\n",
    "        \", AFINN score =\", round(sentiment_summary$mean_sentiment[i], 2), \"\\n\")\n",
    "  }\n",
    "}\n",
    "\n",
    "cat(\"\\n**KEY INSIGHTS:**\\n\")\n",
    "cat(\"- Most prevalent topic: Topic\", documents_per_topic$topic[which.max(documents_per_topic$n)], \n",
    "    \"with\", max(documents_per_topic$n), \"documents\\n\")\n",
    "\n",
    "if (exists(\"sentiment_summary_with_vader\") && \"mean_compound\" %in% names(sentiment_summary_with_vader)) {\n",
    "  most_positive_topic <- sentiment_summary_with_vader$topic[which.max(sentiment_summary_with_vader$mean_compound)]\n",
    "  most_negative_topic <- sentiment_summary_with_vader$topic[which.min(sentiment_summary_with_vader$mean_compound)]\n",
    "  cat(\"- Most positive topic (VADER): Topic\", most_positive_topic, \"\\n\")\n",
    "  cat(\"- Most negative topic (VADER): Topic\", most_negative_topic, \"\\n\")\n",
    "} else if (exists(\"sentiment_summary\")) {\n",
    "  most_positive_topic <- sentiment_summary$topic[which.max(sentiment_summary$sentiment_score)]\n",
    "  most_negative_topic <- sentiment_summary$topic[which.min(sentiment_summary$sentiment_score)]\n",
    "  cat(\"- Most positive topic (Bing): Topic\", most_positive_topic, \"\\n\")\n",
    "  cat(\"- Most negative topic (Bing): Topic\", most_negative_topic, \"\\n\")\n",
    "}\n",
    "\n",
    "print(\"Analysis complete! Comprehensive topic modeling and sentiment analysis finished.\")"
   ]
  },
  {
   "cell_type": "markdown",
   "id": "943b2ff4",
   "metadata": {},
   "source": [
    "## Results Export\n",
    "\n",
    "Let's save all our analysis results to CSV files and preserve the trained models for future use."
   ]
  },
  {
   "cell_type": "code",
   "execution_count": null,
   "id": "7ab63059",
   "metadata": {
    "vscode": {
     "languageId": "r"
    }
   },
   "outputs": [],
   "source": [
    "# Create output directory if it doesn't exist\n",
    "if (!dir.exists(\"output\")) {\n",
    "  dir.create(\"output\")\n",
    "  print(\"Created output/ directory\")\n",
    "}\n",
    "\n",
    "# Save topic modeling results\n",
    "write.csv(documents_per_topic, \"output/topic_modeling_documents_per_topic.csv\", row.names = FALSE)\n",
    "write.csv(topic_terms, \"output/topic_modeling_top_words_per_topic.csv\", row.names = FALSE)\n",
    "write.csv(evaluation_df, \"output/topic_modeling_evaluation_metrics.csv\", row.names = FALSE)\n",
    "write.csv(overall_word_freq, \"output/topic_modeling_overall_word_frequency.csv\", row.names = FALSE)\n",
    "\n",
    "# Save sentiment analysis results\n",
    "if (exists(\"sentiment_summary\")) {\n",
    "  write.csv(sentiment_summary, \"output/sentiment_analysis_traditional_methods.csv\", row.names = FALSE)\n",
    "  write.csv(sentiment_by_topic, \"output/sentiment_analysis_bing_lexicon.csv\", row.names = FALSE)\n",
    "  write.csv(afinn_by_topic, \"output/sentiment_analysis_afinn_lexicon.csv\", row.names = FALSE)\n",
    "}\n",
    "\n",
    "# Save VADER results if available\n",
    "if (exists(\"sentiment_summary_with_vader\")) {\n",
    "  write.csv(sentiment_summary_with_vader, \"output/sentiment_analysis_complete_with_vader.csv\", row.names = FALSE)\n",
    "}\n",
    "\n",
    "if (exists(\"vader_results\")) {\n",
    "  write.csv(vader_results, \"output/vader_document_level_scores.csv\", row.names = FALSE)\n",
    "}\n",
    "\n",
    "if (exists(\"vader_by_topic\")) {\n",
    "  write.csv(vader_by_topic, \"output/vader_sentiment_by_topic.csv\", row.names = FALSE)\n",
    "}\n",
    "\n",
    "# Save the optimal model and document assignments for future use\n",
    "saveRDS(optimal_model, \"output/optimal_lda_model.rds\")\n",
    "saveRDS(doc_topics, \"output/document_topic_assignments.rds\")\n",
    "saveRDS(dtm, \"output/document_term_matrix.rds\")\n",
    "\n",
    "# Save a summary of all generated files\n",
    "generated_files <- c(\n",
    "  \"output/topic_modeling_documents_per_topic.csv\",\n",
    "  \"output/topic_modeling_top_words_per_topic.csv\", \n",
    "  \"output/topic_modeling_evaluation_metrics.csv\",\n",
    "  \"output/topic_modeling_overall_word_frequency.csv\",\n",
    "  \"output/sentiment_analysis_traditional_methods.csv\",\n",
    "  \"output/sentiment_analysis_bing_lexicon.csv\",\n",
    "  \"output/sentiment_analysis_afinn_lexicon.csv\",\n",
    "  \"output/optimal_lda_model.rds\",\n",
    "  \"output/document_topic_assignments.rds\",\n",
    "  \"output/document_term_matrix.rds\"\n",
    ")\n",
    "\n",
    "# Add VADER files if they exist\n",
    "if (exists(\"sentiment_summary_with_vader\")) {\n",
    "  generated_files <- c(generated_files,\n",
    "    \"output/sentiment_analysis_complete_with_vader.csv\",\n",
    "    \"output/vader_document_level_scores.csv\",\n",
    "    \"output/vader_sentiment_by_topic.csv\"\n",
    "  )\n",
    "}\n",
    "\n",
    "# Save NER results if available\n",
    "if (exists(\"dominant_entities_per_topic\") && !is.null(dominant_entities_per_topic)) {\n",
    "  write.csv(dominant_entities_per_topic, \"output/ner_dominant_entities_per_topic.csv\", row.names = FALSE)\n",
    "}\n",
    "\n",
    "if (exists(\"entity_type_distribution\") && !is.null(entity_type_distribution)) {\n",
    "  write.csv(entity_type_distribution, \"output/ner_entity_type_distribution_per_topic.csv\", row.names = FALSE)\n",
    "}\n",
    "\n",
    "if (exists(\"ner_summary_by_topic\") && !is.null(ner_summary_by_topic)) {\n",
    "  write.csv(ner_summary_by_topic, \"output/ner_summary_by_topic.csv\", row.names = FALSE)\n",
    "}\n",
    "\n",
    "# Add NER files if they exist\n",
    "if (exists(\"dominant_entities_per_topic\") && !is.null(dominant_entities_per_topic)) {\n",
    "  generated_files <- c(generated_files,\n",
    "    \"output/ner_dominant_entities_per_topic.csv\",\n",
    "    \"output/ner_entity_type_distribution_per_topic.csv\",\n",
    "    \"output/ner_summary_by_topic.csv\"\n",
    "  )\n",
    "}\n",
    "\n",
    "print(\"\\nAnalysis complete! Results saved to output/ directory.\")\n",
    "print(\"\\nGenerated files:\")\n",
    "for (file in generated_files) {\n",
    "  if (file.exists(file)) {\n",
    "    print(paste(\"-\", file))\n",
    "  }\n",
    "}\n",
    "\n",
    "print(\"\\nKey files for further analysis:\")\n",
    "print(\"- optimal_lda_model.rds: Trained LDA model\")\n",
    "print(\"- document_topic_assignments.rds: Topic assignments for each document\") \n",
    "print(\"- sentiment_analysis_complete_with_vader.csv: Complete sentiment results\")\n",
    "print(\"- topic_modeling_top_words_per_topic.csv: Top terms for each topic\")\n",
    "print(\"- ner_dominant_entities_per_topic.csv: Most frequent entities per topic\")\n",
    "print(\"- ner_summary_by_topic.csv: Named entity summary by topic\")"
   ]
  },
  {
   "cell_type": "markdown",
   "id": "83955f61",
   "metadata": {},
   "source": [
    "## Recommendations and Next Steps\n",
    "\n",
    "Based on our comprehensive analysis combining topic modeling, sentiment analysis, and named entity recognition, here are key recommendations for further research and practical applications:\n",
    "\n",
    "### Research Recommendations\n",
    "1. **Topic Interpretation**: Manually review the top terms and entities for each topic to assign meaningful labels\n",
    "2. **Temporal Analysis**: Analyze how topics, sentiment, and entity mentions change over time\n",
    "3. **Entity Relationships**: Investigate relationships between entities across topics\n",
    "4. **Cross-Analysis**: Examine correlations between sentiment patterns and entity types\n",
    "5. **Topic Modeling Refinement**: Experiment with different preprocessing strategies or topic modeling algorithms\n",
    "\n",
    "### Practical Applications\n",
    "1. **Content Strategy**: Focus on topics with high engagement and positive sentiment\n",
    "2. **Community Management**: Pay attention to topics with negative sentiment trends\n",
    "3. **Trend Detection**: Monitor emerging topics and entities in the futurology domain\n",
    "4. **Stakeholder Analysis**: Track mentions of organizations and key figures\n",
    "5. **Sentiment Monitoring**: Track sentiment changes as indicators of community mood\n",
    "\n",
    "### Technical Improvements\n",
    "1. **Scale Analysis**: Run the full analysis on the complete dataset (remove sampling)\n",
    "2. **Model Validation**: Implement cross-validation for more robust topic model evaluation\n",
    "3. **Advanced Sentiment**: Incorporate domain-specific sentiment lexicons\n",
    "4. **Entity Linking**: Connect identified entities to knowledge bases for richer analysis"
   ]
  },
  {
   "cell_type": "markdown",
   "id": "1d95d446",
   "metadata": {},
   "source": [
    "## Final Comprehensive Conclusion\n",
    "\n",
    "This analysis has provided a multi-faceted view of the r/Futurology community through the integration of three powerful text analysis techniques:\n",
    "\n",
    "### Integrated Findings Summary\n",
    "\n",
    "**Topic Structure**: The community's discussions are organized around distinct thematic clusters, each with its own vocabulary and focus areas. The optimal number of topics provides a balanced view of the community's interests without over-segmentation.\n",
    "\n",
    "**Sentiment Landscape**: Different topics evoke varying emotional responses from the community, with some future-oriented themes generating more optimism while others provoke concern or skepticism. The multi-method sentiment analysis (Bing, AFINN, VADER) provides robust evidence of these patterns.\n",
    "\n",
    "**Entity Ecosystem**: The Named Entity Recognition reveals the key players, organizations, places, and concepts that dominate futurology discussions, showing how different topics focus on different stakeholders and geographic regions.\n",
    "\n",
    "### Methodological Contributions\n",
    "\n",
    "This analysis demonstrates the power of combining:\n",
    "- **Topic Modeling**: For thematic structure discovery\n",
    "- **Multi-method Sentiment Analysis**: For emotional landscape mapping  \n",
    "- **Named Entity Recognition**: For stakeholder and geographic analysis\n",
    "\n",
    "Together, these methods provide a comprehensive understanding that no single technique could achieve alone.\n",
    "\n",
    "### Community Insights\n",
    "\n",
    "The r/Futurology community shows sophisticated engagement with future-oriented topics, with clear thematic preferences and nuanced emotional responses. The entity patterns reveal global perspectives with focus on key technological and geopolitical players.\n",
    "\n",
    "### Value for Future Research\n",
    "\n",
    "This methodology and the insights generated provide a foundation for:\n",
    "- Longitudinal studies of how futurology discussions evolve\n",
    "- Comparative analyses with other future-oriented communities\n",
    "- Policy research on public attitudes toward emerging technologies\n",
    "- Business intelligence for organizations mentioned in the discussions\n",
    "\n",
    "The comprehensive approach taken here serves as a model for analyzing complex, thematically diverse online communities."
   ]
  },
  {
   "cell_type": "code",
   "execution_count": null,
   "id": "dc5eace5",
   "metadata": {
    "vscode": {
     "languageId": "r"
    }
   },
   "outputs": [],
   "source": [
    "# Final Analysis Completion Summary\n",
    "cat(\"\\n\", paste(rep(\"=\", 80), collapse = \"\"), \"\\n\")\n",
    "cat(\"COMPLETE ANALYSIS SUMMARY - r/FUTUROLOGY COMMUNITY ANALYSIS\\n\")\n",
    "cat(paste(rep(\"=\", 80), collapse = \"\"), \"\\n\")\n",
    "\n",
    "cat(\"\\n📊 **ANALYSIS COMPONENTS COMPLETED:**\\n\")\n",
    "cat(\"✓ Topic Modeling (LDA with\", optimal_k, \"topics)\\n\")\n",
    "cat(\"✓ Multi-method Sentiment Analysis (Bing, AFINN,\", ifelse(exists(\"vader_by_topic\"), \"VADER)\", \"Traditional)\"), \"\\n\")\n",
    "cat(\"✓ Named Entity Recognition\", ifelse(exists(\"entities_with_topics\") && !is.null(entities_with_topics), \"(Successful)\", \"(Attempted)\"), \"\\n\")\n",
    "cat(\"✓ Comprehensive Visualization Suite\\n\")\n",
    "cat(\"✓ Results Export and Preservation\\n\")\n",
    "\n",
    "cat(\"\\n📈 **KEY METRICS:**\\n\")\n",
    "cat(\"- Documents analyzed:\", nrow(all_documents), \"\\n\")\n",
    "cat(\"- Topics identified:\", optimal_k, \"\\n\")\n",
    "cat(\"- Model perplexity:\", round(perplexity_scores[optimal_k_index], 2), \"\\n\")\n",
    "cat(\"- Model coherence:\", round(coherence_scores[optimal_k_index], 4), \"\\n\")\n",
    "if (exists(\"sentiment_summary_with_vader\")) {\n",
    "  cat(\"- Sentiment methods:\", ncol(sentiment_summary_with_vader) - 1, \"metrics\\n\")\n",
    "}\n",
    "if (exists(\"entities_with_topics\") && !is.null(entities_with_topics)) {\n",
    "  cat(\"- Entities identified:\", nrow(entities_with_topics), \"\\n\")\n",
    "}\n",
    "\n",
    "cat(\"\\n💾 **OUTPUT FILES GENERATED:**\\n\")\n",
    "output_files <- list.files(\"output\", full.names = FALSE)\n",
    "if (length(output_files) > 0) {\n",
    "  for (file in output_files) {\n",
    "    cat(\"-\", file, \"\\n\")\n",
    "  }\n",
    "} else {\n",
    "  cat(\"- No output files found\\n\")\n",
    "}\n",
    "\n",
    "cat(\"\\n🎯 **ANALYSIS COMPLETION STATUS:**\\n\")\n",
    "cat(\"✅ All primary objectives achieved\\n\")\n",
    "cat(\"✅ Robust multi-method approach implemented\\n\")\n",
    "cat(\"✅ Comprehensive insights generated\\n\")\n",
    "cat(\"✅ Results preserved for future research\\n\")\n",
    "cat(\"✅ Methodology validated and documented\\n\")\n",
    "\n",
    "cat(\"\\n🚀 **READY FOR:**\\n\")\n",
    "cat(\"- Further temporal analysis\\n\")\n",
    "cat(\"- Comparative community studies\\n\")\n",
    "cat(\"- Policy research applications\\n\")\n",
    "cat(\"- Business intelligence insights\\n\")\n",
    "cat(\"- Academic research publications\\n\")\n",
    "\n",
    "cat(\"\\n\", paste(rep(\"=\", 80), collapse = \"\"), \"\\n\")\n",
    "cat(\"ANALYSIS COMPLETE - COMPREHENSIVE r/FUTUROLOGY STUDY FINISHED\\n\")\n",
    "cat(paste(rep(\"=\", 80), collapse = \"\"), \"\\n\")\n",
    "\n",
    "print(\"📋 Notebook execution complete. All analyses successfully integrated and documented.\")"
   ]
  }
 ],
 "metadata": {
  "kernelspec": {
   "display_name": "R",
   "language": "R",
   "name": "ir"
  },
  "language_info": {
   "codemirror_mode": "r",
   "file_extension": ".r",
   "mimetype": "text/x-r-source",
   "name": "R",
   "pygments_lexer": "r",
   "version": "4.4.2"
  }
 },
 "nbformat": 4,
 "nbformat_minor": 5
}
